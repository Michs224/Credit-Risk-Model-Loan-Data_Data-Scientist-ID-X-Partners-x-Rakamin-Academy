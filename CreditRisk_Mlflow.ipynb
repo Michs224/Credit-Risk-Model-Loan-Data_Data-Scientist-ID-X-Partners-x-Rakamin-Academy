{
 "cells": [
  {
   "cell_type": "markdown",
   "id": "575fc743",
   "metadata": {},
   "source": [
    "## Hypothesis\n",
    "Predict which loans will default, focus on clients who will default."
   ]
  },
  {
   "cell_type": "code",
   "execution_count": 799,
   "id": "78f2cd5f",
   "metadata": {},
   "outputs": [
    {
     "data": {
      "text/plain": [
       "['CreditRisk_Mlflow.ipynb', 'LCDataDictionary.xlsx', 'loan_data_2007_2014.csv']"
      ]
     },
     "execution_count": 799,
     "metadata": {},
     "output_type": "execute_result"
    }
   ],
   "source": [
    "import pandas as pd\n",
    "import numpy as np\n",
    "import os\n",
    "os.listdir()"
   ]
  },
  {
   "cell_type": "markdown",
   "id": "bb8a641e",
   "metadata": {},
   "source": [
    "## The Data\n",
    "Data Source: Kaggle  \n",
    "Url: https://www.kaggle.com/datasets/devanshi23/loan-data-2007-2014"
   ]
  },
  {
   "cell_type": "code",
   "execution_count": 800,
   "id": "2479feed",
   "metadata": {},
   "outputs": [
    {
     "name": "stderr",
     "output_type": "stream",
     "text": [
      "C:\\Users\\micha\\AppData\\Local\\Temp\\ipykernel_3836\\4157633977.py:1: DtypeWarning: Columns (20) have mixed types. Specify dtype option on import or set low_memory=False.\n",
      "  loanData=pd.read_csv(\"loan_data_2007_2014.csv\")\n"
     ]
    }
   ],
   "source": [
    "loanData=pd.read_csv(\"loan_data_2007_2014.csv\")"
   ]
  },
  {
   "cell_type": "code",
   "execution_count": 801,
   "id": "1ff8e0e5",
   "metadata": {},
   "outputs": [
    {
     "data": {
      "text/html": [
       "<div>\n",
       "<style scoped>\n",
       "    .dataframe tbody tr th:only-of-type {\n",
       "        vertical-align: middle;\n",
       "    }\n",
       "\n",
       "    .dataframe tbody tr th {\n",
       "        vertical-align: top;\n",
       "    }\n",
       "\n",
       "    .dataframe thead th {\n",
       "        text-align: right;\n",
       "    }\n",
       "</style>\n",
       "<table border=\"1\" class=\"dataframe\">\n",
       "  <thead>\n",
       "    <tr style=\"text-align: right;\">\n",
       "      <th></th>\n",
       "      <th>Unnamed: 0</th>\n",
       "      <th>id</th>\n",
       "      <th>member_id</th>\n",
       "      <th>loan_amnt</th>\n",
       "      <th>funded_amnt</th>\n",
       "      <th>funded_amnt_inv</th>\n",
       "      <th>term</th>\n",
       "      <th>int_rate</th>\n",
       "      <th>installment</th>\n",
       "      <th>grade</th>\n",
       "      <th>...</th>\n",
       "      <th>total_bal_il</th>\n",
       "      <th>il_util</th>\n",
       "      <th>open_rv_12m</th>\n",
       "      <th>open_rv_24m</th>\n",
       "      <th>max_bal_bc</th>\n",
       "      <th>all_util</th>\n",
       "      <th>total_rev_hi_lim</th>\n",
       "      <th>inq_fi</th>\n",
       "      <th>total_cu_tl</th>\n",
       "      <th>inq_last_12m</th>\n",
       "    </tr>\n",
       "  </thead>\n",
       "  <tbody>\n",
       "    <tr>\n",
       "      <th>0</th>\n",
       "      <td>0</td>\n",
       "      <td>1077501</td>\n",
       "      <td>1296599</td>\n",
       "      <td>5000</td>\n",
       "      <td>5000</td>\n",
       "      <td>4975.0</td>\n",
       "      <td>36 months</td>\n",
       "      <td>10.65</td>\n",
       "      <td>162.87</td>\n",
       "      <td>B</td>\n",
       "      <td>...</td>\n",
       "      <td>NaN</td>\n",
       "      <td>NaN</td>\n",
       "      <td>NaN</td>\n",
       "      <td>NaN</td>\n",
       "      <td>NaN</td>\n",
       "      <td>NaN</td>\n",
       "      <td>NaN</td>\n",
       "      <td>NaN</td>\n",
       "      <td>NaN</td>\n",
       "      <td>NaN</td>\n",
       "    </tr>\n",
       "    <tr>\n",
       "      <th>1</th>\n",
       "      <td>1</td>\n",
       "      <td>1077430</td>\n",
       "      <td>1314167</td>\n",
       "      <td>2500</td>\n",
       "      <td>2500</td>\n",
       "      <td>2500.0</td>\n",
       "      <td>60 months</td>\n",
       "      <td>15.27</td>\n",
       "      <td>59.83</td>\n",
       "      <td>C</td>\n",
       "      <td>...</td>\n",
       "      <td>NaN</td>\n",
       "      <td>NaN</td>\n",
       "      <td>NaN</td>\n",
       "      <td>NaN</td>\n",
       "      <td>NaN</td>\n",
       "      <td>NaN</td>\n",
       "      <td>NaN</td>\n",
       "      <td>NaN</td>\n",
       "      <td>NaN</td>\n",
       "      <td>NaN</td>\n",
       "    </tr>\n",
       "    <tr>\n",
       "      <th>2</th>\n",
       "      <td>2</td>\n",
       "      <td>1077175</td>\n",
       "      <td>1313524</td>\n",
       "      <td>2400</td>\n",
       "      <td>2400</td>\n",
       "      <td>2400.0</td>\n",
       "      <td>36 months</td>\n",
       "      <td>15.96</td>\n",
       "      <td>84.33</td>\n",
       "      <td>C</td>\n",
       "      <td>...</td>\n",
       "      <td>NaN</td>\n",
       "      <td>NaN</td>\n",
       "      <td>NaN</td>\n",
       "      <td>NaN</td>\n",
       "      <td>NaN</td>\n",
       "      <td>NaN</td>\n",
       "      <td>NaN</td>\n",
       "      <td>NaN</td>\n",
       "      <td>NaN</td>\n",
       "      <td>NaN</td>\n",
       "    </tr>\n",
       "    <tr>\n",
       "      <th>3</th>\n",
       "      <td>3</td>\n",
       "      <td>1076863</td>\n",
       "      <td>1277178</td>\n",
       "      <td>10000</td>\n",
       "      <td>10000</td>\n",
       "      <td>10000.0</td>\n",
       "      <td>36 months</td>\n",
       "      <td>13.49</td>\n",
       "      <td>339.31</td>\n",
       "      <td>C</td>\n",
       "      <td>...</td>\n",
       "      <td>NaN</td>\n",
       "      <td>NaN</td>\n",
       "      <td>NaN</td>\n",
       "      <td>NaN</td>\n",
       "      <td>NaN</td>\n",
       "      <td>NaN</td>\n",
       "      <td>NaN</td>\n",
       "      <td>NaN</td>\n",
       "      <td>NaN</td>\n",
       "      <td>NaN</td>\n",
       "    </tr>\n",
       "    <tr>\n",
       "      <th>4</th>\n",
       "      <td>4</td>\n",
       "      <td>1075358</td>\n",
       "      <td>1311748</td>\n",
       "      <td>3000</td>\n",
       "      <td>3000</td>\n",
       "      <td>3000.0</td>\n",
       "      <td>60 months</td>\n",
       "      <td>12.69</td>\n",
       "      <td>67.79</td>\n",
       "      <td>B</td>\n",
       "      <td>...</td>\n",
       "      <td>NaN</td>\n",
       "      <td>NaN</td>\n",
       "      <td>NaN</td>\n",
       "      <td>NaN</td>\n",
       "      <td>NaN</td>\n",
       "      <td>NaN</td>\n",
       "      <td>NaN</td>\n",
       "      <td>NaN</td>\n",
       "      <td>NaN</td>\n",
       "      <td>NaN</td>\n",
       "    </tr>\n",
       "  </tbody>\n",
       "</table>\n",
       "<p>5 rows × 75 columns</p>\n",
       "</div>"
      ],
      "text/plain": [
       "   Unnamed: 0       id  member_id  loan_amnt  funded_amnt  funded_amnt_inv  \\\n",
       "0           0  1077501    1296599       5000         5000           4975.0   \n",
       "1           1  1077430    1314167       2500         2500           2500.0   \n",
       "2           2  1077175    1313524       2400         2400           2400.0   \n",
       "3           3  1076863    1277178      10000        10000          10000.0   \n",
       "4           4  1075358    1311748       3000         3000           3000.0   \n",
       "\n",
       "         term  int_rate  installment grade  ... total_bal_il il_util  \\\n",
       "0   36 months     10.65       162.87     B  ...          NaN     NaN   \n",
       "1   60 months     15.27        59.83     C  ...          NaN     NaN   \n",
       "2   36 months     15.96        84.33     C  ...          NaN     NaN   \n",
       "3   36 months     13.49       339.31     C  ...          NaN     NaN   \n",
       "4   60 months     12.69        67.79     B  ...          NaN     NaN   \n",
       "\n",
       "  open_rv_12m open_rv_24m  max_bal_bc all_util total_rev_hi_lim inq_fi  \\\n",
       "0         NaN         NaN         NaN      NaN              NaN    NaN   \n",
       "1         NaN         NaN         NaN      NaN              NaN    NaN   \n",
       "2         NaN         NaN         NaN      NaN              NaN    NaN   \n",
       "3         NaN         NaN         NaN      NaN              NaN    NaN   \n",
       "4         NaN         NaN         NaN      NaN              NaN    NaN   \n",
       "\n",
       "  total_cu_tl inq_last_12m  \n",
       "0         NaN          NaN  \n",
       "1         NaN          NaN  \n",
       "2         NaN          NaN  \n",
       "3         NaN          NaN  \n",
       "4         NaN          NaN  \n",
       "\n",
       "[5 rows x 75 columns]"
      ]
     },
     "execution_count": 801,
     "metadata": {},
     "output_type": "execute_result"
    }
   ],
   "source": [
    "loanData.head()"
   ]
  },
  {
   "cell_type": "code",
   "execution_count": 802,
   "id": "d765dbe6",
   "metadata": {},
   "outputs": [
    {
     "data": {
      "text/plain": [
       "(466285, 75)"
      ]
     },
     "execution_count": 802,
     "metadata": {},
     "output_type": "execute_result"
    }
   ],
   "source": [
    "loanData.shape"
   ]
  },
  {
   "cell_type": "code",
   "execution_count": 803,
   "id": "2df6c5aa",
   "metadata": {
    "scrolled": true
   },
   "outputs": [
    {
     "data": {
      "text/plain": [
       "Index(['Unnamed: 0', 'id', 'member_id', 'loan_amnt', 'funded_amnt',\n",
       "       'funded_amnt_inv', 'term', 'int_rate', 'installment', 'grade',\n",
       "       'sub_grade', 'emp_title', 'emp_length', 'home_ownership', 'annual_inc',\n",
       "       'verification_status', 'issue_d', 'loan_status', 'pymnt_plan', 'url',\n",
       "       'desc', 'purpose', 'title', 'zip_code', 'addr_state', 'dti',\n",
       "       'delinq_2yrs', 'earliest_cr_line', 'inq_last_6mths',\n",
       "       'mths_since_last_delinq', 'mths_since_last_record', 'open_acc',\n",
       "       'pub_rec', 'revol_bal', 'revol_util', 'total_acc',\n",
       "       'initial_list_status', 'out_prncp', 'out_prncp_inv', 'total_pymnt',\n",
       "       'total_pymnt_inv', 'total_rec_prncp', 'total_rec_int',\n",
       "       'total_rec_late_fee', 'recoveries', 'collection_recovery_fee',\n",
       "       'last_pymnt_d', 'last_pymnt_amnt', 'next_pymnt_d', 'last_credit_pull_d',\n",
       "       'collections_12_mths_ex_med', 'mths_since_last_major_derog',\n",
       "       'policy_code', 'application_type', 'annual_inc_joint', 'dti_joint',\n",
       "       'verification_status_joint', 'acc_now_delinq', 'tot_coll_amt',\n",
       "       'tot_cur_bal', 'open_acc_6m', 'open_il_6m', 'open_il_12m',\n",
       "       'open_il_24m', 'mths_since_rcnt_il', 'total_bal_il', 'il_util',\n",
       "       'open_rv_12m', 'open_rv_24m', 'max_bal_bc', 'all_util',\n",
       "       'total_rev_hi_lim', 'inq_fi', 'total_cu_tl', 'inq_last_12m'],\n",
       "      dtype='object')"
      ]
     },
     "execution_count": 803,
     "metadata": {},
     "output_type": "execute_result"
    }
   ],
   "source": [
    "loanData.columns"
   ]
  },
  {
   "cell_type": "code",
   "execution_count": 804,
   "id": "9cdf1ea9",
   "metadata": {},
   "outputs": [
    {
     "data": {
      "text/html": [
       "<div>\n",
       "<style scoped>\n",
       "    .dataframe tbody tr th:only-of-type {\n",
       "        vertical-align: middle;\n",
       "    }\n",
       "\n",
       "    .dataframe tbody tr th {\n",
       "        vertical-align: top;\n",
       "    }\n",
       "\n",
       "    .dataframe thead th {\n",
       "        text-align: right;\n",
       "    }\n",
       "</style>\n",
       "<table border=\"1\" class=\"dataframe\">\n",
       "  <thead>\n",
       "    <tr style=\"text-align: right;\">\n",
       "      <th></th>\n",
       "      <th>Unnamed: 0</th>\n",
       "      <th>id</th>\n",
       "      <th>member_id</th>\n",
       "      <th>loan_amnt</th>\n",
       "      <th>funded_amnt</th>\n",
       "      <th>funded_amnt_inv</th>\n",
       "      <th>int_rate</th>\n",
       "      <th>installment</th>\n",
       "      <th>annual_inc</th>\n",
       "      <th>dti</th>\n",
       "      <th>...</th>\n",
       "      <th>total_bal_il</th>\n",
       "      <th>il_util</th>\n",
       "      <th>open_rv_12m</th>\n",
       "      <th>open_rv_24m</th>\n",
       "      <th>max_bal_bc</th>\n",
       "      <th>all_util</th>\n",
       "      <th>total_rev_hi_lim</th>\n",
       "      <th>inq_fi</th>\n",
       "      <th>total_cu_tl</th>\n",
       "      <th>inq_last_12m</th>\n",
       "    </tr>\n",
       "  </thead>\n",
       "  <tbody>\n",
       "    <tr>\n",
       "      <th>count</th>\n",
       "      <td>466285.000000</td>\n",
       "      <td>4.662850e+05</td>\n",
       "      <td>4.662850e+05</td>\n",
       "      <td>466285.000000</td>\n",
       "      <td>466285.000000</td>\n",
       "      <td>466285.000000</td>\n",
       "      <td>466285.000000</td>\n",
       "      <td>466285.000000</td>\n",
       "      <td>4.662810e+05</td>\n",
       "      <td>466285.000000</td>\n",
       "      <td>...</td>\n",
       "      <td>0.0</td>\n",
       "      <td>0.0</td>\n",
       "      <td>0.0</td>\n",
       "      <td>0.0</td>\n",
       "      <td>0.0</td>\n",
       "      <td>0.0</td>\n",
       "      <td>3.960090e+05</td>\n",
       "      <td>0.0</td>\n",
       "      <td>0.0</td>\n",
       "      <td>0.0</td>\n",
       "    </tr>\n",
       "    <tr>\n",
       "      <th>mean</th>\n",
       "      <td>233142.000000</td>\n",
       "      <td>1.307973e+07</td>\n",
       "      <td>1.459766e+07</td>\n",
       "      <td>14317.277577</td>\n",
       "      <td>14291.801044</td>\n",
       "      <td>14222.329888</td>\n",
       "      <td>13.829236</td>\n",
       "      <td>432.061201</td>\n",
       "      <td>7.327738e+04</td>\n",
       "      <td>17.218758</td>\n",
       "      <td>...</td>\n",
       "      <td>NaN</td>\n",
       "      <td>NaN</td>\n",
       "      <td>NaN</td>\n",
       "      <td>NaN</td>\n",
       "      <td>NaN</td>\n",
       "      <td>NaN</td>\n",
       "      <td>3.037909e+04</td>\n",
       "      <td>NaN</td>\n",
       "      <td>NaN</td>\n",
       "      <td>NaN</td>\n",
       "    </tr>\n",
       "    <tr>\n",
       "      <th>std</th>\n",
       "      <td>134605.029472</td>\n",
       "      <td>1.089371e+07</td>\n",
       "      <td>1.168237e+07</td>\n",
       "      <td>8286.509164</td>\n",
       "      <td>8274.371300</td>\n",
       "      <td>8297.637788</td>\n",
       "      <td>4.357587</td>\n",
       "      <td>243.485550</td>\n",
       "      <td>5.496357e+04</td>\n",
       "      <td>7.851121</td>\n",
       "      <td>...</td>\n",
       "      <td>NaN</td>\n",
       "      <td>NaN</td>\n",
       "      <td>NaN</td>\n",
       "      <td>NaN</td>\n",
       "      <td>NaN</td>\n",
       "      <td>NaN</td>\n",
       "      <td>3.724713e+04</td>\n",
       "      <td>NaN</td>\n",
       "      <td>NaN</td>\n",
       "      <td>NaN</td>\n",
       "    </tr>\n",
       "    <tr>\n",
       "      <th>min</th>\n",
       "      <td>0.000000</td>\n",
       "      <td>5.473400e+04</td>\n",
       "      <td>7.047300e+04</td>\n",
       "      <td>500.000000</td>\n",
       "      <td>500.000000</td>\n",
       "      <td>0.000000</td>\n",
       "      <td>5.420000</td>\n",
       "      <td>15.670000</td>\n",
       "      <td>1.896000e+03</td>\n",
       "      <td>0.000000</td>\n",
       "      <td>...</td>\n",
       "      <td>NaN</td>\n",
       "      <td>NaN</td>\n",
       "      <td>NaN</td>\n",
       "      <td>NaN</td>\n",
       "      <td>NaN</td>\n",
       "      <td>NaN</td>\n",
       "      <td>0.000000e+00</td>\n",
       "      <td>NaN</td>\n",
       "      <td>NaN</td>\n",
       "      <td>NaN</td>\n",
       "    </tr>\n",
       "    <tr>\n",
       "      <th>25%</th>\n",
       "      <td>116571.000000</td>\n",
       "      <td>3.639987e+06</td>\n",
       "      <td>4.379705e+06</td>\n",
       "      <td>8000.000000</td>\n",
       "      <td>8000.000000</td>\n",
       "      <td>8000.000000</td>\n",
       "      <td>10.990000</td>\n",
       "      <td>256.690000</td>\n",
       "      <td>4.500000e+04</td>\n",
       "      <td>11.360000</td>\n",
       "      <td>...</td>\n",
       "      <td>NaN</td>\n",
       "      <td>NaN</td>\n",
       "      <td>NaN</td>\n",
       "      <td>NaN</td>\n",
       "      <td>NaN</td>\n",
       "      <td>NaN</td>\n",
       "      <td>1.350000e+04</td>\n",
       "      <td>NaN</td>\n",
       "      <td>NaN</td>\n",
       "      <td>NaN</td>\n",
       "    </tr>\n",
       "    <tr>\n",
       "      <th>50%</th>\n",
       "      <td>233142.000000</td>\n",
       "      <td>1.010790e+07</td>\n",
       "      <td>1.194108e+07</td>\n",
       "      <td>12000.000000</td>\n",
       "      <td>12000.000000</td>\n",
       "      <td>12000.000000</td>\n",
       "      <td>13.660000</td>\n",
       "      <td>379.890000</td>\n",
       "      <td>6.300000e+04</td>\n",
       "      <td>16.870000</td>\n",
       "      <td>...</td>\n",
       "      <td>NaN</td>\n",
       "      <td>NaN</td>\n",
       "      <td>NaN</td>\n",
       "      <td>NaN</td>\n",
       "      <td>NaN</td>\n",
       "      <td>NaN</td>\n",
       "      <td>2.280000e+04</td>\n",
       "      <td>NaN</td>\n",
       "      <td>NaN</td>\n",
       "      <td>NaN</td>\n",
       "    </tr>\n",
       "    <tr>\n",
       "      <th>75%</th>\n",
       "      <td>349713.000000</td>\n",
       "      <td>2.073121e+07</td>\n",
       "      <td>2.300154e+07</td>\n",
       "      <td>20000.000000</td>\n",
       "      <td>20000.000000</td>\n",
       "      <td>19950.000000</td>\n",
       "      <td>16.490000</td>\n",
       "      <td>566.580000</td>\n",
       "      <td>8.896000e+04</td>\n",
       "      <td>22.780000</td>\n",
       "      <td>...</td>\n",
       "      <td>NaN</td>\n",
       "      <td>NaN</td>\n",
       "      <td>NaN</td>\n",
       "      <td>NaN</td>\n",
       "      <td>NaN</td>\n",
       "      <td>NaN</td>\n",
       "      <td>3.790000e+04</td>\n",
       "      <td>NaN</td>\n",
       "      <td>NaN</td>\n",
       "      <td>NaN</td>\n",
       "    </tr>\n",
       "    <tr>\n",
       "      <th>max</th>\n",
       "      <td>466284.000000</td>\n",
       "      <td>3.809811e+07</td>\n",
       "      <td>4.086083e+07</td>\n",
       "      <td>35000.000000</td>\n",
       "      <td>35000.000000</td>\n",
       "      <td>35000.000000</td>\n",
       "      <td>26.060000</td>\n",
       "      <td>1409.990000</td>\n",
       "      <td>7.500000e+06</td>\n",
       "      <td>39.990000</td>\n",
       "      <td>...</td>\n",
       "      <td>NaN</td>\n",
       "      <td>NaN</td>\n",
       "      <td>NaN</td>\n",
       "      <td>NaN</td>\n",
       "      <td>NaN</td>\n",
       "      <td>NaN</td>\n",
       "      <td>9.999999e+06</td>\n",
       "      <td>NaN</td>\n",
       "      <td>NaN</td>\n",
       "      <td>NaN</td>\n",
       "    </tr>\n",
       "  </tbody>\n",
       "</table>\n",
       "<p>8 rows × 53 columns</p>\n",
       "</div>"
      ],
      "text/plain": [
       "          Unnamed: 0            id     member_id      loan_amnt  \\\n",
       "count  466285.000000  4.662850e+05  4.662850e+05  466285.000000   \n",
       "mean   233142.000000  1.307973e+07  1.459766e+07   14317.277577   \n",
       "std    134605.029472  1.089371e+07  1.168237e+07    8286.509164   \n",
       "min         0.000000  5.473400e+04  7.047300e+04     500.000000   \n",
       "25%    116571.000000  3.639987e+06  4.379705e+06    8000.000000   \n",
       "50%    233142.000000  1.010790e+07  1.194108e+07   12000.000000   \n",
       "75%    349713.000000  2.073121e+07  2.300154e+07   20000.000000   \n",
       "max    466284.000000  3.809811e+07  4.086083e+07   35000.000000   \n",
       "\n",
       "         funded_amnt  funded_amnt_inv       int_rate    installment  \\\n",
       "count  466285.000000    466285.000000  466285.000000  466285.000000   \n",
       "mean    14291.801044     14222.329888      13.829236     432.061201   \n",
       "std      8274.371300      8297.637788       4.357587     243.485550   \n",
       "min       500.000000         0.000000       5.420000      15.670000   \n",
       "25%      8000.000000      8000.000000      10.990000     256.690000   \n",
       "50%     12000.000000     12000.000000      13.660000     379.890000   \n",
       "75%     20000.000000     19950.000000      16.490000     566.580000   \n",
       "max     35000.000000     35000.000000      26.060000    1409.990000   \n",
       "\n",
       "         annual_inc            dti  ...  total_bal_il  il_util  open_rv_12m  \\\n",
       "count  4.662810e+05  466285.000000  ...           0.0      0.0          0.0   \n",
       "mean   7.327738e+04      17.218758  ...           NaN      NaN          NaN   \n",
       "std    5.496357e+04       7.851121  ...           NaN      NaN          NaN   \n",
       "min    1.896000e+03       0.000000  ...           NaN      NaN          NaN   \n",
       "25%    4.500000e+04      11.360000  ...           NaN      NaN          NaN   \n",
       "50%    6.300000e+04      16.870000  ...           NaN      NaN          NaN   \n",
       "75%    8.896000e+04      22.780000  ...           NaN      NaN          NaN   \n",
       "max    7.500000e+06      39.990000  ...           NaN      NaN          NaN   \n",
       "\n",
       "       open_rv_24m  max_bal_bc  all_util  total_rev_hi_lim  inq_fi  \\\n",
       "count          0.0         0.0       0.0      3.960090e+05     0.0   \n",
       "mean           NaN         NaN       NaN      3.037909e+04     NaN   \n",
       "std            NaN         NaN       NaN      3.724713e+04     NaN   \n",
       "min            NaN         NaN       NaN      0.000000e+00     NaN   \n",
       "25%            NaN         NaN       NaN      1.350000e+04     NaN   \n",
       "50%            NaN         NaN       NaN      2.280000e+04     NaN   \n",
       "75%            NaN         NaN       NaN      3.790000e+04     NaN   \n",
       "max            NaN         NaN       NaN      9.999999e+06     NaN   \n",
       "\n",
       "       total_cu_tl  inq_last_12m  \n",
       "count          0.0           0.0  \n",
       "mean           NaN           NaN  \n",
       "std            NaN           NaN  \n",
       "min            NaN           NaN  \n",
       "25%            NaN           NaN  \n",
       "50%            NaN           NaN  \n",
       "75%            NaN           NaN  \n",
       "max            NaN           NaN  \n",
       "\n",
       "[8 rows x 53 columns]"
      ]
     },
     "execution_count": 804,
     "metadata": {},
     "output_type": "execute_result"
    }
   ],
   "source": [
    "loanData.describe()"
   ]
  },
  {
   "cell_type": "code",
   "execution_count": 805,
   "id": "b2d598eb",
   "metadata": {},
   "outputs": [
    {
     "name": "stdout",
     "output_type": "stream",
     "text": [
      "<class 'pandas.core.frame.DataFrame'>\n",
      "RangeIndex: 466285 entries, 0 to 466284\n",
      "Data columns (total 75 columns):\n",
      " #   Column                       Non-Null Count   Dtype  \n",
      "---  ------                       --------------   -----  \n",
      " 0   Unnamed: 0                   466285 non-null  int64  \n",
      " 1   id                           466285 non-null  int64  \n",
      " 2   member_id                    466285 non-null  int64  \n",
      " 3   loan_amnt                    466285 non-null  int64  \n",
      " 4   funded_amnt                  466285 non-null  int64  \n",
      " 5   funded_amnt_inv              466285 non-null  float64\n",
      " 6   term                         466285 non-null  object \n",
      " 7   int_rate                     466285 non-null  float64\n",
      " 8   installment                  466285 non-null  float64\n",
      " 9   grade                        466285 non-null  object \n",
      " 10  sub_grade                    466285 non-null  object \n",
      " 11  emp_title                    438697 non-null  object \n",
      " 12  emp_length                   445277 non-null  object \n",
      " 13  home_ownership               466285 non-null  object \n",
      " 14  annual_inc                   466281 non-null  float64\n",
      " 15  verification_status          466285 non-null  object \n",
      " 16  issue_d                      466285 non-null  object \n",
      " 17  loan_status                  466285 non-null  object \n",
      " 18  pymnt_plan                   466285 non-null  object \n",
      " 19  url                          466285 non-null  object \n",
      " 20  desc                         125981 non-null  object \n",
      " 21  purpose                      466285 non-null  object \n",
      " 22  title                        466264 non-null  object \n",
      " 23  zip_code                     466285 non-null  object \n",
      " 24  addr_state                   466285 non-null  object \n",
      " 25  dti                          466285 non-null  float64\n",
      " 26  delinq_2yrs                  466256 non-null  float64\n",
      " 27  earliest_cr_line             466256 non-null  object \n",
      " 28  inq_last_6mths               466256 non-null  float64\n",
      " 29  mths_since_last_delinq       215934 non-null  float64\n",
      " 30  mths_since_last_record       62638 non-null   float64\n",
      " 31  open_acc                     466256 non-null  float64\n",
      " 32  pub_rec                      466256 non-null  float64\n",
      " 33  revol_bal                    466285 non-null  int64  \n",
      " 34  revol_util                   465945 non-null  float64\n",
      " 35  total_acc                    466256 non-null  float64\n",
      " 36  initial_list_status          466285 non-null  object \n",
      " 37  out_prncp                    466285 non-null  float64\n",
      " 38  out_prncp_inv                466285 non-null  float64\n",
      " 39  total_pymnt                  466285 non-null  float64\n",
      " 40  total_pymnt_inv              466285 non-null  float64\n",
      " 41  total_rec_prncp              466285 non-null  float64\n",
      " 42  total_rec_int                466285 non-null  float64\n",
      " 43  total_rec_late_fee           466285 non-null  float64\n",
      " 44  recoveries                   466285 non-null  float64\n",
      " 45  collection_recovery_fee      466285 non-null  float64\n",
      " 46  last_pymnt_d                 465909 non-null  object \n",
      " 47  last_pymnt_amnt              466285 non-null  float64\n",
      " 48  next_pymnt_d                 239071 non-null  object \n",
      " 49  last_credit_pull_d           466243 non-null  object \n",
      " 50  collections_12_mths_ex_med   466140 non-null  float64\n",
      " 51  mths_since_last_major_derog  98974 non-null   float64\n",
      " 52  policy_code                  466285 non-null  int64  \n",
      " 53  application_type             466285 non-null  object \n",
      " 54  annual_inc_joint             0 non-null       float64\n",
      " 55  dti_joint                    0 non-null       float64\n",
      " 56  verification_status_joint    0 non-null       float64\n",
      " 57  acc_now_delinq               466256 non-null  float64\n",
      " 58  tot_coll_amt                 396009 non-null  float64\n",
      " 59  tot_cur_bal                  396009 non-null  float64\n",
      " 60  open_acc_6m                  0 non-null       float64\n",
      " 61  open_il_6m                   0 non-null       float64\n",
      " 62  open_il_12m                  0 non-null       float64\n",
      " 63  open_il_24m                  0 non-null       float64\n",
      " 64  mths_since_rcnt_il           0 non-null       float64\n",
      " 65  total_bal_il                 0 non-null       float64\n",
      " 66  il_util                      0 non-null       float64\n",
      " 67  open_rv_12m                  0 non-null       float64\n",
      " 68  open_rv_24m                  0 non-null       float64\n",
      " 69  max_bal_bc                   0 non-null       float64\n",
      " 70  all_util                     0 non-null       float64\n",
      " 71  total_rev_hi_lim             396009 non-null  float64\n",
      " 72  inq_fi                       0 non-null       float64\n",
      " 73  total_cu_tl                  0 non-null       float64\n",
      " 74  inq_last_12m                 0 non-null       float64\n",
      "dtypes: float64(46), int64(7), object(22)\n",
      "memory usage: 266.8+ MB\n"
     ]
    }
   ],
   "source": [
    "loanData.info()"
   ]
  },
  {
   "cell_type": "markdown",
   "id": "9c4019de",
   "metadata": {},
   "source": [
    "## Target Variable\n",
    "Notify that bad or good loan, need column \"loan_status\""
   ]
  },
  {
   "cell_type": "code",
   "execution_count": 806,
   "id": "06af4fda",
   "metadata": {},
   "outputs": [
    {
     "data": {
      "text/plain": [
       "array(['Fully Paid', 'Charged Off', 'Current', 'Default',\n",
       "       'Late (31-120 days)', 'In Grace Period', 'Late (16-30 days)',\n",
       "       'Does not meet the credit policy. Status:Fully Paid',\n",
       "       'Does not meet the credit policy. Status:Charged Off'],\n",
       "      dtype=object)"
      ]
     },
     "execution_count": 806,
     "metadata": {},
     "output_type": "execute_result"
    }
   ],
   "source": [
    "loanData[\"loan_status\"].unique()"
   ]
  },
  {
   "cell_type": "markdown",
   "id": "66548e7b",
   "metadata": {},
   "source": [
    "The bad ones are defined as 1, and the rest good are 0.  \n",
    "  \n",
    "Bad: 'Charged Off', 'Default', 'Late (31-120 days)',  \n",
    "'Late (16-30 days)',  \n",
    "'Does not meet the credit policy. Status:Charged Off' \n",
    "  \n",
    "Good: Else"
   ]
  },
  {
   "cell_type": "code",
   "execution_count": 807,
   "id": "6da8dfb0",
   "metadata": {},
   "outputs": [],
   "source": [
    "loanData[\"good_bad\"]=np.where(loanData.loc[:,\"loan_status\"].isin(['Charged Off', 'Default',  \n",
    "       'Late (31-120 days)', 'Late (16-30 days)',  \n",
    "       'Does not meet the credit policy. Status:Charged Off']),1,0)"
   ]
  },
  {
   "cell_type": "code",
   "execution_count": 808,
   "id": "901a65eb",
   "metadata": {},
   "outputs": [
    {
     "data": {
      "text/plain": [
       "good_bad\n",
       "0    414099\n",
       "1     52186\n",
       "Name: count, dtype: int64"
      ]
     },
     "execution_count": 808,
     "metadata": {},
     "output_type": "execute_result"
    }
   ],
   "source": [
    "loanData[\"good_bad\"].value_counts()"
   ]
  },
  {
   "cell_type": "code",
   "execution_count": 809,
   "id": "ed5656eb",
   "metadata": {
    "scrolled": true
   },
   "outputs": [
    {
     "data": {
      "text/html": [
       "<div>\n",
       "<style scoped>\n",
       "    .dataframe tbody tr th:only-of-type {\n",
       "        vertical-align: middle;\n",
       "    }\n",
       "\n",
       "    .dataframe tbody tr th {\n",
       "        vertical-align: top;\n",
       "    }\n",
       "\n",
       "    .dataframe thead th {\n",
       "        text-align: right;\n",
       "    }\n",
       "</style>\n",
       "<table border=\"1\" class=\"dataframe\">\n",
       "  <thead>\n",
       "    <tr style=\"text-align: right;\">\n",
       "      <th></th>\n",
       "      <th>loan_status</th>\n",
       "      <th>good_bad</th>\n",
       "    </tr>\n",
       "  </thead>\n",
       "  <tbody>\n",
       "    <tr>\n",
       "      <th>0</th>\n",
       "      <td>Fully Paid</td>\n",
       "      <td>0</td>\n",
       "    </tr>\n",
       "    <tr>\n",
       "      <th>1</th>\n",
       "      <td>Charged Off</td>\n",
       "      <td>1</td>\n",
       "    </tr>\n",
       "    <tr>\n",
       "      <th>2</th>\n",
       "      <td>Fully Paid</td>\n",
       "      <td>0</td>\n",
       "    </tr>\n",
       "    <tr>\n",
       "      <th>3</th>\n",
       "      <td>Fully Paid</td>\n",
       "      <td>0</td>\n",
       "    </tr>\n",
       "    <tr>\n",
       "      <th>4</th>\n",
       "      <td>Current</td>\n",
       "      <td>0</td>\n",
       "    </tr>\n",
       "    <tr>\n",
       "      <th>...</th>\n",
       "      <td>...</td>\n",
       "      <td>...</td>\n",
       "    </tr>\n",
       "    <tr>\n",
       "      <th>466280</th>\n",
       "      <td>Current</td>\n",
       "      <td>0</td>\n",
       "    </tr>\n",
       "    <tr>\n",
       "      <th>466281</th>\n",
       "      <td>Charged Off</td>\n",
       "      <td>1</td>\n",
       "    </tr>\n",
       "    <tr>\n",
       "      <th>466282</th>\n",
       "      <td>Current</td>\n",
       "      <td>0</td>\n",
       "    </tr>\n",
       "    <tr>\n",
       "      <th>466283</th>\n",
       "      <td>Fully Paid</td>\n",
       "      <td>0</td>\n",
       "    </tr>\n",
       "    <tr>\n",
       "      <th>466284</th>\n",
       "      <td>Current</td>\n",
       "      <td>0</td>\n",
       "    </tr>\n",
       "  </tbody>\n",
       "</table>\n",
       "<p>466285 rows × 2 columns</p>\n",
       "</div>"
      ],
      "text/plain": [
       "        loan_status  good_bad\n",
       "0        Fully Paid         0\n",
       "1       Charged Off         1\n",
       "2        Fully Paid         0\n",
       "3        Fully Paid         0\n",
       "4           Current         0\n",
       "...             ...       ...\n",
       "466280      Current         0\n",
       "466281  Charged Off         1\n",
       "466282      Current         0\n",
       "466283   Fully Paid         0\n",
       "466284      Current         0\n",
       "\n",
       "[466285 rows x 2 columns]"
      ]
     },
     "execution_count": 809,
     "metadata": {},
     "output_type": "execute_result"
    }
   ],
   "source": [
    "loanData[[\"loan_status\",\"good_bad\"]]"
   ]
  },
  {
   "cell_type": "code",
   "execution_count": 810,
   "id": "4f3a0914",
   "metadata": {},
   "outputs": [],
   "source": [
    "# pd.options.display.max_columns=None"
   ]
  },
  {
   "cell_type": "code",
   "execution_count": 811,
   "id": "6727279d",
   "metadata": {},
   "outputs": [
    {
     "data": {
      "text/plain": [
       "loan_status                                          good_bad\n",
       "Current                                              0           224226\n",
       "Fully Paid                                           0           184739\n",
       "Charged Off                                          1            42475\n",
       "Late (31-120 days)                                   1             6900\n",
       "In Grace Period                                      0             3146\n",
       "Does not meet the credit policy. Status:Fully Paid   0             1988\n",
       "Late (16-30 days)                                    1             1218\n",
       "Default                                              1              832\n",
       "Does not meet the credit policy. Status:Charged Off  1              761\n",
       "Name: count, dtype: int64"
      ]
     },
     "execution_count": 811,
     "metadata": {},
     "output_type": "execute_result"
    }
   ],
   "source": [
    "loanData[[\"loan_status\",\"good_bad\"]].value_counts()"
   ]
  },
  {
   "cell_type": "markdown",
   "id": "96b3d77f",
   "metadata": {},
   "source": [
    "## Missing Values\n",
    "Due to the large number of rows and columns, it is important to check for missing values.  \n",
    "So that the model is easier to predict based on these columns"
   ]
  },
  {
   "cell_type": "code",
   "execution_count": 812,
   "id": "d64d710c",
   "metadata": {},
   "outputs": [
    {
     "name": "stdout",
     "output_type": "stream",
     "text": [
      "                         0\n",
      "Unnamed: 0        0.000000\n",
      "id                0.000000\n",
      "member_id         0.000000\n",
      "loan_amnt         0.000000\n",
      "funded_amnt       0.000000\n",
      "...                    ...\n",
      "total_rev_hi_lim  0.150715\n",
      "inq_fi            1.000000\n",
      "total_cu_tl       1.000000\n",
      "inq_last_12m      1.000000\n",
      "good_bad          0.000000\n",
      "\n",
      "[76 rows x 1 columns]\n",
      "0    0.0\n",
      "Name: Unnamed: 0, dtype: float64\n"
     ]
    }
   ],
   "source": [
    "missing_values=pd.DataFrame(loanData.isnull().sum()/loanData.shape[0])\n",
    "print(missing_values)\n",
    "print(missing_values.loc[\"Unnamed: 0\"])"
   ]
  },
  {
   "cell_type": "code",
   "execution_count": 813,
   "id": "ab0906a6",
   "metadata": {},
   "outputs": [],
   "source": [
    "missing_values=missing_values[missing_values.iloc[:,0] > 0.50]\n",
    "# The missing value is above 50%"
   ]
  },
  {
   "cell_type": "code",
   "execution_count": 814,
   "id": "70b87341",
   "metadata": {},
   "outputs": [
    {
     "data": {
      "text/plain": [
       "(21, 1)"
      ]
     },
     "execution_count": 814,
     "metadata": {},
     "output_type": "execute_result"
    }
   ],
   "source": [
    "missing_values.shape"
   ]
  },
  {
   "cell_type": "code",
   "execution_count": 815,
   "id": "b2dea7bc",
   "metadata": {},
   "outputs": [
    {
     "data": {
      "text/html": [
       "<div>\n",
       "<style scoped>\n",
       "    .dataframe tbody tr th:only-of-type {\n",
       "        vertical-align: middle;\n",
       "    }\n",
       "\n",
       "    .dataframe tbody tr th {\n",
       "        vertical-align: top;\n",
       "    }\n",
       "\n",
       "    .dataframe thead th {\n",
       "        text-align: right;\n",
       "    }\n",
       "</style>\n",
       "<table border=\"1\" class=\"dataframe\">\n",
       "  <thead>\n",
       "    <tr style=\"text-align: right;\">\n",
       "      <th></th>\n",
       "      <th>0</th>\n",
       "    </tr>\n",
       "  </thead>\n",
       "  <tbody>\n",
       "    <tr>\n",
       "      <th>desc</th>\n",
       "      <td>0.729820</td>\n",
       "    </tr>\n",
       "    <tr>\n",
       "      <th>mths_since_last_delinq</th>\n",
       "      <td>0.536906</td>\n",
       "    </tr>\n",
       "    <tr>\n",
       "      <th>mths_since_last_record</th>\n",
       "      <td>0.865666</td>\n",
       "    </tr>\n",
       "    <tr>\n",
       "      <th>mths_since_last_major_derog</th>\n",
       "      <td>0.787739</td>\n",
       "    </tr>\n",
       "    <tr>\n",
       "      <th>annual_inc_joint</th>\n",
       "      <td>1.000000</td>\n",
       "    </tr>\n",
       "    <tr>\n",
       "      <th>dti_joint</th>\n",
       "      <td>1.000000</td>\n",
       "    </tr>\n",
       "    <tr>\n",
       "      <th>verification_status_joint</th>\n",
       "      <td>1.000000</td>\n",
       "    </tr>\n",
       "    <tr>\n",
       "      <th>open_acc_6m</th>\n",
       "      <td>1.000000</td>\n",
       "    </tr>\n",
       "    <tr>\n",
       "      <th>open_il_6m</th>\n",
       "      <td>1.000000</td>\n",
       "    </tr>\n",
       "    <tr>\n",
       "      <th>open_il_12m</th>\n",
       "      <td>1.000000</td>\n",
       "    </tr>\n",
       "    <tr>\n",
       "      <th>open_il_24m</th>\n",
       "      <td>1.000000</td>\n",
       "    </tr>\n",
       "    <tr>\n",
       "      <th>mths_since_rcnt_il</th>\n",
       "      <td>1.000000</td>\n",
       "    </tr>\n",
       "    <tr>\n",
       "      <th>total_bal_il</th>\n",
       "      <td>1.000000</td>\n",
       "    </tr>\n",
       "    <tr>\n",
       "      <th>il_util</th>\n",
       "      <td>1.000000</td>\n",
       "    </tr>\n",
       "    <tr>\n",
       "      <th>open_rv_12m</th>\n",
       "      <td>1.000000</td>\n",
       "    </tr>\n",
       "    <tr>\n",
       "      <th>open_rv_24m</th>\n",
       "      <td>1.000000</td>\n",
       "    </tr>\n",
       "    <tr>\n",
       "      <th>max_bal_bc</th>\n",
       "      <td>1.000000</td>\n",
       "    </tr>\n",
       "    <tr>\n",
       "      <th>all_util</th>\n",
       "      <td>1.000000</td>\n",
       "    </tr>\n",
       "    <tr>\n",
       "      <th>inq_fi</th>\n",
       "      <td>1.000000</td>\n",
       "    </tr>\n",
       "    <tr>\n",
       "      <th>total_cu_tl</th>\n",
       "      <td>1.000000</td>\n",
       "    </tr>\n",
       "    <tr>\n",
       "      <th>inq_last_12m</th>\n",
       "      <td>1.000000</td>\n",
       "    </tr>\n",
       "  </tbody>\n",
       "</table>\n",
       "</div>"
      ],
      "text/plain": [
       "                                    0\n",
       "desc                         0.729820\n",
       "mths_since_last_delinq       0.536906\n",
       "mths_since_last_record       0.865666\n",
       "mths_since_last_major_derog  0.787739\n",
       "annual_inc_joint             1.000000\n",
       "dti_joint                    1.000000\n",
       "verification_status_joint    1.000000\n",
       "open_acc_6m                  1.000000\n",
       "open_il_6m                   1.000000\n",
       "open_il_12m                  1.000000\n",
       "open_il_24m                  1.000000\n",
       "mths_since_rcnt_il           1.000000\n",
       "total_bal_il                 1.000000\n",
       "il_util                      1.000000\n",
       "open_rv_12m                  1.000000\n",
       "open_rv_24m                  1.000000\n",
       "max_bal_bc                   1.000000\n",
       "all_util                     1.000000\n",
       "inq_fi                       1.000000\n",
       "total_cu_tl                  1.000000\n",
       "inq_last_12m                 1.000000"
      ]
     },
     "execution_count": 815,
     "metadata": {},
     "output_type": "execute_result"
    }
   ],
   "source": [
    "missing_values"
   ]
  },
  {
   "cell_type": "code",
   "execution_count": 816,
   "id": "eab9ba20",
   "metadata": {},
   "outputs": [],
   "source": [
    "missing_values.sort_values([0],ascending=False,inplace=True)\n",
    "# [0] because the rows are at 0"
   ]
  },
  {
   "cell_type": "code",
   "execution_count": 817,
   "id": "3b5f9e87",
   "metadata": {
    "scrolled": true
   },
   "outputs": [
    {
     "data": {
      "text/html": [
       "<div>\n",
       "<style scoped>\n",
       "    .dataframe tbody tr th:only-of-type {\n",
       "        vertical-align: middle;\n",
       "    }\n",
       "\n",
       "    .dataframe tbody tr th {\n",
       "        vertical-align: top;\n",
       "    }\n",
       "\n",
       "    .dataframe thead th {\n",
       "        text-align: right;\n",
       "    }\n",
       "</style>\n",
       "<table border=\"1\" class=\"dataframe\">\n",
       "  <thead>\n",
       "    <tr style=\"text-align: right;\">\n",
       "      <th></th>\n",
       "      <th>0</th>\n",
       "    </tr>\n",
       "  </thead>\n",
       "  <tbody>\n",
       "    <tr>\n",
       "      <th>annual_inc_joint</th>\n",
       "      <td>1.000000</td>\n",
       "    </tr>\n",
       "    <tr>\n",
       "      <th>open_il_6m</th>\n",
       "      <td>1.000000</td>\n",
       "    </tr>\n",
       "    <tr>\n",
       "      <th>open_acc_6m</th>\n",
       "      <td>1.000000</td>\n",
       "    </tr>\n",
       "    <tr>\n",
       "      <th>verification_status_joint</th>\n",
       "      <td>1.000000</td>\n",
       "    </tr>\n",
       "    <tr>\n",
       "      <th>dti_joint</th>\n",
       "      <td>1.000000</td>\n",
       "    </tr>\n",
       "    <tr>\n",
       "      <th>il_util</th>\n",
       "      <td>1.000000</td>\n",
       "    </tr>\n",
       "    <tr>\n",
       "      <th>open_rv_12m</th>\n",
       "      <td>1.000000</td>\n",
       "    </tr>\n",
       "    <tr>\n",
       "      <th>open_rv_24m</th>\n",
       "      <td>1.000000</td>\n",
       "    </tr>\n",
       "    <tr>\n",
       "      <th>max_bal_bc</th>\n",
       "      <td>1.000000</td>\n",
       "    </tr>\n",
       "    <tr>\n",
       "      <th>open_il_12m</th>\n",
       "      <td>1.000000</td>\n",
       "    </tr>\n",
       "    <tr>\n",
       "      <th>open_il_24m</th>\n",
       "      <td>1.000000</td>\n",
       "    </tr>\n",
       "    <tr>\n",
       "      <th>mths_since_rcnt_il</th>\n",
       "      <td>1.000000</td>\n",
       "    </tr>\n",
       "    <tr>\n",
       "      <th>total_bal_il</th>\n",
       "      <td>1.000000</td>\n",
       "    </tr>\n",
       "    <tr>\n",
       "      <th>all_util</th>\n",
       "      <td>1.000000</td>\n",
       "    </tr>\n",
       "    <tr>\n",
       "      <th>inq_fi</th>\n",
       "      <td>1.000000</td>\n",
       "    </tr>\n",
       "    <tr>\n",
       "      <th>total_cu_tl</th>\n",
       "      <td>1.000000</td>\n",
       "    </tr>\n",
       "    <tr>\n",
       "      <th>inq_last_12m</th>\n",
       "      <td>1.000000</td>\n",
       "    </tr>\n",
       "    <tr>\n",
       "      <th>mths_since_last_record</th>\n",
       "      <td>0.865666</td>\n",
       "    </tr>\n",
       "    <tr>\n",
       "      <th>mths_since_last_major_derog</th>\n",
       "      <td>0.787739</td>\n",
       "    </tr>\n",
       "    <tr>\n",
       "      <th>desc</th>\n",
       "      <td>0.729820</td>\n",
       "    </tr>\n",
       "    <tr>\n",
       "      <th>mths_since_last_delinq</th>\n",
       "      <td>0.536906</td>\n",
       "    </tr>\n",
       "  </tbody>\n",
       "</table>\n",
       "</div>"
      ],
      "text/plain": [
       "                                    0\n",
       "annual_inc_joint             1.000000\n",
       "open_il_6m                   1.000000\n",
       "open_acc_6m                  1.000000\n",
       "verification_status_joint    1.000000\n",
       "dti_joint                    1.000000\n",
       "il_util                      1.000000\n",
       "open_rv_12m                  1.000000\n",
       "open_rv_24m                  1.000000\n",
       "max_bal_bc                   1.000000\n",
       "open_il_12m                  1.000000\n",
       "open_il_24m                  1.000000\n",
       "mths_since_rcnt_il           1.000000\n",
       "total_bal_il                 1.000000\n",
       "all_util                     1.000000\n",
       "inq_fi                       1.000000\n",
       "total_cu_tl                  1.000000\n",
       "inq_last_12m                 1.000000\n",
       "mths_since_last_record       0.865666\n",
       "mths_since_last_major_derog  0.787739\n",
       "desc                         0.729820\n",
       "mths_since_last_delinq       0.536906"
      ]
     },
     "execution_count": 817,
     "metadata": {},
     "output_type": "execute_result"
    }
   ],
   "source": [
    "missing_values"
   ]
  },
  {
   "cell_type": "markdown",
   "id": "0e088922",
   "metadata": {},
   "source": [
    "It is better to delete the column with the missing value  \n",
    "because even if you try to fill it with media, mean or other techniques for missing values\n",
    "it will produce less accurate values."
   ]
  },
  {
   "cell_type": "code",
   "execution_count": 818,
   "id": "8cd81fb1",
   "metadata": {},
   "outputs": [],
   "source": [
    "loanData.drop(columns=missing_values.index,inplace=True)\n",
    "# loanData.dropna(thresh=loanData.shape[0]*0.5,axis=1,inplace=True)"
   ]
  },
  {
   "cell_type": "code",
   "execution_count": 819,
   "id": "8a5be724",
   "metadata": {},
   "outputs": [
    {
     "name": "stdout",
     "output_type": "stream",
     "text": [
      "<class 'pandas.core.frame.DataFrame'>\n",
      "RangeIndex: 466285 entries, 0 to 466284\n",
      "Data columns (total 55 columns):\n",
      " #   Column                      Non-Null Count   Dtype  \n",
      "---  ------                      --------------   -----  \n",
      " 0   Unnamed: 0                  466285 non-null  int64  \n",
      " 1   id                          466285 non-null  int64  \n",
      " 2   member_id                   466285 non-null  int64  \n",
      " 3   loan_amnt                   466285 non-null  int64  \n",
      " 4   funded_amnt                 466285 non-null  int64  \n",
      " 5   funded_amnt_inv             466285 non-null  float64\n",
      " 6   term                        466285 non-null  object \n",
      " 7   int_rate                    466285 non-null  float64\n",
      " 8   installment                 466285 non-null  float64\n",
      " 9   grade                       466285 non-null  object \n",
      " 10  sub_grade                   466285 non-null  object \n",
      " 11  emp_title                   438697 non-null  object \n",
      " 12  emp_length                  445277 non-null  object \n",
      " 13  home_ownership              466285 non-null  object \n",
      " 14  annual_inc                  466281 non-null  float64\n",
      " 15  verification_status         466285 non-null  object \n",
      " 16  issue_d                     466285 non-null  object \n",
      " 17  loan_status                 466285 non-null  object \n",
      " 18  pymnt_plan                  466285 non-null  object \n",
      " 19  url                         466285 non-null  object \n",
      " 20  purpose                     466285 non-null  object \n",
      " 21  title                       466264 non-null  object \n",
      " 22  zip_code                    466285 non-null  object \n",
      " 23  addr_state                  466285 non-null  object \n",
      " 24  dti                         466285 non-null  float64\n",
      " 25  delinq_2yrs                 466256 non-null  float64\n",
      " 26  earliest_cr_line            466256 non-null  object \n",
      " 27  inq_last_6mths              466256 non-null  float64\n",
      " 28  open_acc                    466256 non-null  float64\n",
      " 29  pub_rec                     466256 non-null  float64\n",
      " 30  revol_bal                   466285 non-null  int64  \n",
      " 31  revol_util                  465945 non-null  float64\n",
      " 32  total_acc                   466256 non-null  float64\n",
      " 33  initial_list_status         466285 non-null  object \n",
      " 34  out_prncp                   466285 non-null  float64\n",
      " 35  out_prncp_inv               466285 non-null  float64\n",
      " 36  total_pymnt                 466285 non-null  float64\n",
      " 37  total_pymnt_inv             466285 non-null  float64\n",
      " 38  total_rec_prncp             466285 non-null  float64\n",
      " 39  total_rec_int               466285 non-null  float64\n",
      " 40  total_rec_late_fee          466285 non-null  float64\n",
      " 41  recoveries                  466285 non-null  float64\n",
      " 42  collection_recovery_fee     466285 non-null  float64\n",
      " 43  last_pymnt_d                465909 non-null  object \n",
      " 44  last_pymnt_amnt             466285 non-null  float64\n",
      " 45  next_pymnt_d                239071 non-null  object \n",
      " 46  last_credit_pull_d          466243 non-null  object \n",
      " 47  collections_12_mths_ex_med  466140 non-null  float64\n",
      " 48  policy_code                 466285 non-null  int64  \n",
      " 49  application_type            466285 non-null  object \n",
      " 50  acc_now_delinq              466256 non-null  float64\n",
      " 51  tot_coll_amt                396009 non-null  float64\n",
      " 52  tot_cur_bal                 396009 non-null  float64\n",
      " 53  total_rev_hi_lim            396009 non-null  float64\n",
      " 54  good_bad                    466285 non-null  int64  \n",
      "dtypes: float64(26), int64(8), object(21)\n",
      "memory usage: 195.7+ MB\n"
     ]
    }
   ],
   "source": [
    "loanData.info()"
   ]
  },
  {
   "cell_type": "code",
   "execution_count": 820,
   "id": "4fd60f05",
   "metadata": {},
   "outputs": [],
   "source": [
    "loanData.drop(\"Unnamed: 0\",axis=1,inplace=True)"
   ]
  },
  {
   "cell_type": "code",
   "execution_count": 821,
   "id": "f994aec6",
   "metadata": {},
   "outputs": [
    {
     "name": "stdout",
     "output_type": "stream",
     "text": [
      "<class 'pandas.core.frame.DataFrame'>\n",
      "RangeIndex: 466285 entries, 0 to 466284\n",
      "Data columns (total 54 columns):\n",
      " #   Column                      Non-Null Count   Dtype  \n",
      "---  ------                      --------------   -----  \n",
      " 0   id                          466285 non-null  int64  \n",
      " 1   member_id                   466285 non-null  int64  \n",
      " 2   loan_amnt                   466285 non-null  int64  \n",
      " 3   funded_amnt                 466285 non-null  int64  \n",
      " 4   funded_amnt_inv             466285 non-null  float64\n",
      " 5   term                        466285 non-null  object \n",
      " 6   int_rate                    466285 non-null  float64\n",
      " 7   installment                 466285 non-null  float64\n",
      " 8   grade                       466285 non-null  object \n",
      " 9   sub_grade                   466285 non-null  object \n",
      " 10  emp_title                   438697 non-null  object \n",
      " 11  emp_length                  445277 non-null  object \n",
      " 12  home_ownership              466285 non-null  object \n",
      " 13  annual_inc                  466281 non-null  float64\n",
      " 14  verification_status         466285 non-null  object \n",
      " 15  issue_d                     466285 non-null  object \n",
      " 16  loan_status                 466285 non-null  object \n",
      " 17  pymnt_plan                  466285 non-null  object \n",
      " 18  url                         466285 non-null  object \n",
      " 19  purpose                     466285 non-null  object \n",
      " 20  title                       466264 non-null  object \n",
      " 21  zip_code                    466285 non-null  object \n",
      " 22  addr_state                  466285 non-null  object \n",
      " 23  dti                         466285 non-null  float64\n",
      " 24  delinq_2yrs                 466256 non-null  float64\n",
      " 25  earliest_cr_line            466256 non-null  object \n",
      " 26  inq_last_6mths              466256 non-null  float64\n",
      " 27  open_acc                    466256 non-null  float64\n",
      " 28  pub_rec                     466256 non-null  float64\n",
      " 29  revol_bal                   466285 non-null  int64  \n",
      " 30  revol_util                  465945 non-null  float64\n",
      " 31  total_acc                   466256 non-null  float64\n",
      " 32  initial_list_status         466285 non-null  object \n",
      " 33  out_prncp                   466285 non-null  float64\n",
      " 34  out_prncp_inv               466285 non-null  float64\n",
      " 35  total_pymnt                 466285 non-null  float64\n",
      " 36  total_pymnt_inv             466285 non-null  float64\n",
      " 37  total_rec_prncp             466285 non-null  float64\n",
      " 38  total_rec_int               466285 non-null  float64\n",
      " 39  total_rec_late_fee          466285 non-null  float64\n",
      " 40  recoveries                  466285 non-null  float64\n",
      " 41  collection_recovery_fee     466285 non-null  float64\n",
      " 42  last_pymnt_d                465909 non-null  object \n",
      " 43  last_pymnt_amnt             466285 non-null  float64\n",
      " 44  next_pymnt_d                239071 non-null  object \n",
      " 45  last_credit_pull_d          466243 non-null  object \n",
      " 46  collections_12_mths_ex_med  466140 non-null  float64\n",
      " 47  policy_code                 466285 non-null  int64  \n",
      " 48  application_type            466285 non-null  object \n",
      " 49  acc_now_delinq              466256 non-null  float64\n",
      " 50  tot_coll_amt                396009 non-null  float64\n",
      " 51  tot_cur_bal                 396009 non-null  float64\n",
      " 52  total_rev_hi_lim            396009 non-null  float64\n",
      " 53  good_bad                    466285 non-null  int64  \n",
      "dtypes: float64(26), int64(7), object(21)\n",
      "memory usage: 192.1+ MB\n"
     ]
    }
   ],
   "source": [
    "loanData.info()"
   ]
  },
  {
   "cell_type": "code",
   "execution_count": 822,
   "id": "c90e98d1",
   "metadata": {},
   "outputs": [],
   "source": [
    "missing_values=pd.DataFrame(loanData.isnull().sum()/loanData.shape[0])\n",
    "missing_values=missing_values[missing_values.iloc[:,0] >0.50]\n",
    "missing_values.sort_values([0],ascending=False,inplace=True)"
   ]
  },
  {
   "cell_type": "code",
   "execution_count": 823,
   "id": "464df3e9",
   "metadata": {},
   "outputs": [
    {
     "data": {
      "text/html": [
       "<div>\n",
       "<style scoped>\n",
       "    .dataframe tbody tr th:only-of-type {\n",
       "        vertical-align: middle;\n",
       "    }\n",
       "\n",
       "    .dataframe tbody tr th {\n",
       "        vertical-align: top;\n",
       "    }\n",
       "\n",
       "    .dataframe thead th {\n",
       "        text-align: right;\n",
       "    }\n",
       "</style>\n",
       "<table border=\"1\" class=\"dataframe\">\n",
       "  <thead>\n",
       "    <tr style=\"text-align: right;\">\n",
       "      <th></th>\n",
       "      <th>0</th>\n",
       "    </tr>\n",
       "  </thead>\n",
       "  <tbody>\n",
       "  </tbody>\n",
       "</table>\n",
       "</div>"
      ],
      "text/plain": [
       "Empty DataFrame\n",
       "Columns: [0]\n",
       "Index: []"
      ]
     },
     "execution_count": 823,
     "metadata": {},
     "output_type": "execute_result"
    }
   ],
   "source": [
    "missing_values"
   ]
  },
  {
   "cell_type": "markdown",
   "id": "2cbeb8aa",
   "metadata": {},
   "source": [
    "Missing values sudah terhapus"
   ]
  },
  {
   "cell_type": "markdown",
   "id": "241b9187",
   "metadata": {},
   "source": [
    "## Data Splitting\n",
    "Train Dataset: train a machine learning model, by learning from the patterns in this Train Data.  \n",
    "Test Dataset: evaluates the machine learning model, whether when the model predicts a new data point, namely whether the test set is accurate or not."
   ]
  },
  {
   "cell_type": "code",
   "execution_count": 824,
   "id": "2102f496",
   "metadata": {},
   "outputs": [
    {
     "data": {
      "text/plain": [
       "(466285, 54)"
      ]
     },
     "execution_count": 824,
     "metadata": {},
     "output_type": "execute_result"
    }
   ],
   "source": [
    "loanData.shape"
   ]
  },
  {
   "cell_type": "markdown",
   "id": "2c53f7f2",
   "metadata": {},
   "source": [
    "80% Train set dan 20% Test set"
   ]
  },
  {
   "cell_type": "code",
   "execution_count": 825,
   "id": "2373a885",
   "metadata": {},
   "outputs": [],
   "source": [
    "from sklearn.model_selection import train_test_split"
   ]
  },
  {
   "cell_type": "code",
   "execution_count": 826,
   "id": "2dda5c0e",
   "metadata": {},
   "outputs": [],
   "source": [
    "x=loanData.drop(\"good_bad\",axis=1)\n",
    "# All columns except good_bad column target variable/responvariable (predictor).\n",
    "y=loanData[\"good_bad\"] \n",
    "# Target column, which will be predicted.\n",
    "\n",
    "x_train,x_test,y_train,y_test=train_test_split(x,y,test_size=0.2)"
   ]
  },
  {
   "cell_type": "code",
   "execution_count": 827,
   "id": "ffda09fb",
   "metadata": {},
   "outputs": [
    {
     "data": {
      "text/plain": [
       "((373028, 53), (93257, 53))"
      ]
     },
     "execution_count": 827,
     "metadata": {},
     "output_type": "execute_result"
    }
   ],
   "source": [
    "x_train.shape,x_test.shape"
   ]
  },
  {
   "cell_type": "code",
   "execution_count": 828,
   "id": "30211335",
   "metadata": {},
   "outputs": [
    {
     "data": {
      "text/plain": [
       "((373028,), (93257,))"
      ]
     },
     "execution_count": 828,
     "metadata": {},
     "output_type": "execute_result"
    }
   ],
   "source": [
    "y_train.shape,y_test.shape"
   ]
  },
  {
   "cell_type": "code",
   "execution_count": 829,
   "id": "d24a9f8b",
   "metadata": {},
   "outputs": [
    {
     "data": {
      "text/plain": [
       "good_bad\n",
       "0    0.888027\n",
       "1    0.111973\n",
       "Name: proportion, dtype: float64"
      ]
     },
     "execution_count": 829,
     "metadata": {},
     "output_type": "execute_result"
    }
   ],
   "source": [
    "y_train.value_counts(normalize=True)"
   ]
  },
  {
   "cell_type": "code",
   "execution_count": 830,
   "id": "12be4d06",
   "metadata": {},
   "outputs": [
    {
     "data": {
      "text/plain": [
       "good_bad\n",
       "0    0.888298\n",
       "1    0.111702\n",
       "Name: proportion, dtype: float64"
      ]
     },
     "execution_count": 830,
     "metadata": {},
     "output_type": "execute_result"
    }
   ],
   "source": [
    "y_test.value_counts(normalize=True)"
   ]
  },
  {
   "cell_type": "markdown",
   "id": "56849416",
   "metadata": {},
   "source": [
    "Imbalanced, where there are very few bad loans, we should have the same distribution, but the distribution is almost the same, so I will use the stratify=y parameter in the train_test_split function so that the y_train and y_test have a more equal distribution, because if they are not the same, then will affect our machine learning model.  \n",
    "  \n",
    "Also use the random_state=42 parameter so that when using the train_test_split function the rows will be random, that's all. So. even though we just run that, surely the results that will get random will be the same lines to make it easier to do a train test split."
   ]
  },
  {
   "cell_type": "code",
   "execution_count": 831,
   "id": "ba02eeea",
   "metadata": {},
   "outputs": [],
   "source": [
    "x=loanData.drop(\"good_bad\",axis=1)\n",
    "y=loanData[\"good_bad\"] \n",
    "\n",
    "x_train,x_test,y_train,y_test=train_test_split(x,y,test_size=0.2,random_state=42,stratify=y)"
   ]
  },
  {
   "cell_type": "code",
   "execution_count": 832,
   "id": "9302b106",
   "metadata": {},
   "outputs": [
    {
     "data": {
      "text/plain": [
       "((373028, 53), (93257, 53))"
      ]
     },
     "execution_count": 832,
     "metadata": {},
     "output_type": "execute_result"
    }
   ],
   "source": [
    "x_train.shape,x_test.shape"
   ]
  },
  {
   "cell_type": "code",
   "execution_count": 833,
   "id": "823b7bef",
   "metadata": {},
   "outputs": [
    {
     "data": {
      "text/plain": [
       "((373028,), (93257,))"
      ]
     },
     "execution_count": 833,
     "metadata": {},
     "output_type": "execute_result"
    }
   ],
   "source": [
    "y_train.shape,y_test.shape"
   ]
  },
  {
   "cell_type": "code",
   "execution_count": 834,
   "id": "5ebd1944",
   "metadata": {},
   "outputs": [
    {
     "data": {
      "text/plain": [
       "good_bad\n",
       "0    0.888081\n",
       "1    0.111919\n",
       "Name: proportion, dtype: float64"
      ]
     },
     "execution_count": 834,
     "metadata": {},
     "output_type": "execute_result"
    }
   ],
   "source": [
    "y_train.value_counts(normalize=True)"
   ]
  },
  {
   "cell_type": "code",
   "execution_count": 835,
   "id": "a9737f27",
   "metadata": {},
   "outputs": [
    {
     "data": {
      "text/plain": [
       "good_bad\n",
       "0    0.888083\n",
       "1    0.111917\n",
       "Name: proportion, dtype: float64"
      ]
     },
     "execution_count": 835,
     "metadata": {},
     "output_type": "execute_result"
    }
   ],
   "source": [
    "y_test.value_counts(normalize=True)"
   ]
  },
  {
   "cell_type": "markdown",
   "id": "2ad5561d",
   "metadata": {},
   "source": [
    "So you can see that the distribution of y_train and y_test has become more the same."
   ]
  },
  {
   "cell_type": "markdown",
   "id": "c5688dab",
   "metadata": {},
   "source": [
    "## Data Cleaning"
   ]
  },
  {
   "cell_type": "code",
   "execution_count": 836,
   "id": "dd5b608d",
   "metadata": {},
   "outputs": [
    {
     "data": {
      "text/plain": [
       "(373028, 53)"
      ]
     },
     "execution_count": 836,
     "metadata": {},
     "output_type": "execute_result"
    }
   ],
   "source": [
    "x_train.shape"
   ]
  },
  {
   "cell_type": "markdown",
   "id": "2413a8cc",
   "metadata": {},
   "source": [
    "Category or non-numeric column"
   ]
  },
  {
   "cell_type": "code",
   "execution_count": 837,
   "id": "e6347a4c",
   "metadata": {},
   "outputs": [
    {
     "data": {
      "text/plain": [
       "Index(['term', 'grade', 'sub_grade', 'emp_title', 'emp_length',\n",
       "       'home_ownership', 'verification_status', 'issue_d', 'loan_status',\n",
       "       'pymnt_plan', 'url', 'purpose', 'title', 'zip_code', 'addr_state',\n",
       "       'earliest_cr_line', 'initial_list_status', 'last_pymnt_d',\n",
       "       'next_pymnt_d', 'last_credit_pull_d', 'application_type'],\n",
       "      dtype='object')"
      ]
     },
     "execution_count": 837,
     "metadata": {},
     "output_type": "execute_result"
    }
   ],
   "source": [
    "x_train.select_dtypes(include=[\"object\",\"bool\"]).columns"
   ]
  },
  {
   "cell_type": "code",
   "execution_count": 838,
   "id": "8277f14a",
   "metadata": {},
   "outputs": [
    {
     "name": "stdout",
     "output_type": "stream",
     "text": [
      "term\n",
      "[' 60 months' ' 36 months']\n",
      "\n",
      "grade\n",
      "['C' 'D' 'A' 'B' 'E' 'F' 'G']\n",
      "\n",
      "sub_grade\n",
      "['C1' 'D1' 'A1' 'B5' 'B4' 'B2' 'B3' 'C3' 'C5' 'A4' 'E3' 'A5' 'D4' 'A3'\n",
      " 'D2' 'E5' 'C4' 'D5' 'E1' 'E2' 'F3' 'B1' 'C2' 'D3' 'F1' 'F4' 'A2' 'G3'\n",
      " 'E4' 'G4' 'G1' 'F5' 'F2' 'G2' 'G5']\n",
      "\n",
      "emp_title\n",
      "['Research Associate (Assistant Professor)' 'Volunteer Coordinator'\n",
      " 'Plant Manger ' ... 'AMR Group' 'Dallas Can Academy' 'Tax Return Center']\n",
      "\n",
      "emp_length\n",
      "['9 years' '2 years' '10+ years' '1 year' '< 1 year' '8 years' nan\n",
      " '6 years' '3 years' '4 years' '5 years' '7 years']\n",
      "\n",
      "home_ownership\n",
      "['MORTGAGE' 'RENT' 'OWN' 'OTHER' 'NONE' 'ANY']\n",
      "\n",
      "verification_status\n",
      "['Verified' 'Not Verified' 'Source Verified']\n",
      "\n",
      "issue_d\n",
      "['Jul-14' 'Oct-13' 'Mar-14' 'Oct-14' 'Aug-11' 'Aug-12' 'Apr-13' 'Nov-07'\n",
      " 'Jun-12' 'Jul-08' 'Jun-14' 'Sep-13' 'Jul-13' 'May-13' 'Feb-12' 'Jun-10'\n",
      " 'Jun-13' 'Apr-14' 'Jul-12' 'Aug-14' 'Nov-13' 'Jan-14' 'Dec-13' 'Dec-14'\n",
      " 'Feb-14' 'Dec-12' 'May-11' 'Nov-12' 'Sep-14' 'Feb-13' 'Nov-14' 'Sep-11'\n",
      " 'Jan-13' 'May-14' 'Jun-09' 'Mar-12' 'May-10' 'Dec-10' 'Aug-13' 'Mar-13'\n",
      " 'Apr-11' 'Nov-10' 'Jan-12' 'Oct-12' 'Jan-11' 'Jul-11' 'Jul-09' 'Sep-12'\n",
      " 'Aug-09' 'Jan-08' 'Nov-11' 'Sep-10' 'Apr-12' 'May-09' 'Dec-11' 'Mar-11'\n",
      " 'Feb-11' 'Oct-11' 'Feb-10' 'May-12' 'Jun-11' 'Aug-10' 'Dec-09' 'Apr-09'\n",
      " 'Oct-09' 'Mar-10' 'Jan-10' 'Oct-07' 'Sep-09' 'Nov-09' 'Dec-08' 'Oct-10'\n",
      " 'Jul-10' 'Mar-08' 'Nov-08' 'Apr-08' 'Apr-10' 'Dec-07' 'Jun-08' 'Mar-09'\n",
      " 'Oct-08' 'Aug-08' 'Feb-09' 'Jan-09' 'May-08' 'Feb-08' 'Sep-07' 'Jul-07'\n",
      " 'Jun-07' 'Sep-08' 'Aug-07']\n",
      "\n",
      "loan_status\n",
      "['Current' 'Charged Off' 'Fully Paid' 'Late (31-120 days)'\n",
      " 'Does not meet the credit policy. Status:Fully Paid' 'In Grace Period'\n",
      " 'Late (16-30 days)' 'Does not meet the credit policy. Status:Charged Off'\n",
      " 'Default']\n",
      "\n",
      "pymnt_plan\n",
      "['n' 'y']\n",
      "\n",
      "url\n",
      "['https://www.lendingclub.com/browse/loanDetail.action?loan_id=22444562'\n",
      " 'https://www.lendingclub.com/browse/loanDetail.action?loan_id=7618610'\n",
      " 'https://www.lendingclub.com/browse/loanDetail.action?loan_id=22321762'\n",
      " ...\n",
      " 'https://www.lendingclub.com/browse/loanDetail.action?loan_id=1003720'\n",
      " 'https://www.lendingclub.com/browse/loanDetail.action?loan_id=31226405'\n",
      " 'https://www.lendingclub.com/browse/loanDetail.action?loan_id=20388757']\n",
      "\n",
      "purpose\n",
      "['debt_consolidation' 'credit_card' 'other' 'wedding' 'medical'\n",
      " 'home_improvement' 'vacation' 'moving' 'car' 'house' 'major_purchase'\n",
      " 'renewable_energy' 'educational' 'small_business']\n",
      "\n",
      "title\n",
      "['Debt consolidation' 'Debt Consolidation' 'Credit card refinancing' ...\n",
      " 'BMW ' 'cut high rate accounts' 'estate taxes']\n",
      "\n",
      "zip_code\n",
      "['463xx' '787xx' '857xx' '741xx' '853xx' '300xx' '926xx' '087xx' '021xx'\n",
      " '604xx' '296xx' '601xx' '906xx' '945xx' '231xx' '136xx' '066xx' '801xx'\n",
      " '785xx' '856xx' '302xx' '101xx' '751xx' '306xx' '083xx' '257xx' '197xx'\n",
      " '107xx' '917xx' '951xx' '921xx' '354xx' '925xx' '606xx' '286xx' '370xx'\n",
      " '996xx' '989xx' '958xx' '941xx' '726xx' '859xx' '433xx' '717xx' '907xx'\n",
      " '210xx' '199xx' '891xx' '712xx' '902xx' '765xx' '294xx' '337xx' '017xx'\n",
      " '190xx' '144xx' '322xx' '768xx' '208xx' '077xx' '774xx' '563xx' '100xx'\n",
      " '339xx' '903xx' '441xx' '127xx' '123xx' '010xx' '335xx' '432xx' '488xx'\n",
      " '351xx' '605xx' '915xx' '752xx' '770xx' '070xx' '430xx' '018xx' '490xx'\n",
      " '146xx' '615xx' '443xx' '368xx' '735xx' '705xx' '564xx' '112xx' '232xx'\n",
      " '905xx' '310xx' '320xx' '336xx' '104xx' '773xx' '800xx' '064xx' '483xx'\n",
      " '974xx' '060xx' '201xx' '930xx' '822xx' '740xx' '395xx' '191xx' '256xx'\n",
      " '793xx' '029xx' '109xx' '028xx' '728xx' '747xx' '603xx' '220xx' '875xx'\n",
      " '600xx' '748xx' '928xx' '983xx' '737xx' '750xx' '852xx' '439xx' '840xx'\n",
      " '916xx' '981xx' '946xx' '328xx' '207xx' '307xx' '331xx' '730xx' '782xx'\n",
      " '920xx' '761xx' '766xx' '786xx' '156xx' '111xx' '026xx' '465xx' '275xx'\n",
      " '075xx' '270xx' '431xx' '953xx' '235xx' '103xx' '346xx' '344xx' '794xx'\n",
      " '957xx' '544xx' '218xx' '121xx' '948xx' '554xx' '650xx' '276xx' '805xx'\n",
      " '537xx' '234xx' '284xx' '166xx' '486xx' '065xx' '178xx' '449xx' '481xx'\n",
      " '080xx' '301xx' '829xx' '452xx' '440xx' '114xx' '723xx' '222xx' '922xx'\n",
      " '086xx' '799xx' '347xx' '303xx' '325xx' '473xx' '919xx' '811xx' '760xx'\n",
      " '551xx' '212xx' '233xx' '547xx' '530xx' '274xx' '365xx' '152xx' '655xx'\n",
      " '333xx' '985xx' '366xx' '089xx' '675xx' '330xx' '076xx' '297xx' '923xx'\n",
      " '115xx' '206xx' '871xx' '176xx' '664xx' '245xx' '610xx' '444xx' '480xx'\n",
      " '678xx' '708xx' '802xx' '641xx' '338xx' '662xx' '074xx' '110xx' '779xx'\n",
      " '228xx' '900xx' '128xx' '461xx' '841xx' '217xx' '648xx' '117xx' '193xx'\n",
      " '784xx' '209xx' '316xx' '224xx' '640xx' '806xx' '073xx' '194xx' '133xx'\n",
      " '775xx' '992xx' '250xx' '200xx' '935xx' '442xx' '940xx' '532xx' '594xx'\n",
      " '630xx' '323xx' '932xx' '462xx' '314xx' '756xx' '067xx' '221xx' '082xx'\n",
      " '746xx' '181xx' '015xx' '272xx' '494xx' '456xx' '393xx' '238xx' '967xx'\n",
      " '970xx' '283xx' '280xx' '132xx' '704xx' '846xx' '460xx' '870xx' '700xx'\n",
      " '113xx' '358xx' '143xx' '458xx' '976xx' '950xx' '277xx' '447xx' '342xx'\n",
      " '279xx' '933xx' '670xx' '757xx' '471xx' '334xx' '612xx' '352xx' '023xx'\n",
      " '450xx' '731xx' '487xx' '613xx' '913xx' '908xx' '175xx' '939xx' '410xx'\n",
      " '808xx' '372xx' '304xx' '122xx' '446xx' '184xx' '024xx' '264xx' '308xx'\n",
      " '321xx' '078xx' '956xx' '394xx' '130xx' '053xx' '918xx' '493xx' '672xx'\n",
      " '402xx' '271xx' '727xx' '927xx' '291xx' '105xx' '142xx' '550xx' '984xx'\n",
      " '995xx' '617xx' '660xx' '371xx' '895xx' '030xx' '744xx' '292xx' '141xx'\n",
      " '609xx' '990xx' '788xx' '072xx' '781xx' '068xx' '482xx' '071xx' '797xx'\n",
      " '451xx' '160xx' '780xx' '349xx' '400xx' '088xx' '815xx' '972xx' '531xx'\n",
      " '850xx' '324xx' '703xx' '936xx' '341xx' '216xx' '051xx' '988xx' '577xx'\n",
      " '851xx' '453xx' '484xx' '796xx' '931xx' '150xx' '644xx' '973xx' '305xx'\n",
      " '285xx' '318xx' '980xx' '405xx' '791xx' '161xx' '373xx' '626xx' '189xx'\n",
      " '968xx' '542xx' '237xx' '185xx' '713xx' '437xx' '911xx' '977xx' '783xx'\n",
      " '710xx' '960xx' '959xx' '553xx' '998xx' '436xx' '949xx' '890xx' '826xx'\n",
      " '971xx' '706xx' '669xx' '179xx' '329xx' '803xx' '085xx' '134xx' '403xx'\n",
      " '943xx' '020xx' '955xx' '315xx' '226xx' '054xx' '656xx' '894xx' '622xx'\n",
      " '647xx' '290xx' '679xx' '975xx' '496xx' '636xx' '326xx' '711xx' '652xx'\n",
      " '151xx' '261xx' '157xx' '019xx' '590xx' '180xx' '548xx' '139xx' '754xx'\n",
      " '952xx' '187xx' '562xx' '619xx' '566xx' '627xx' '596xx' '631xx' '534xx'\n",
      " '244xx' '278xx' '561xx' '982xx' '651xx' '762xx' '170xx' '986xx' '934xx'\n",
      " '759xx' '211xx' '816xx' '090xx' '541xx' '474xx' '720xx' '125xx' '498xx'\n",
      " '163xx' '129xx' '037xx' '722xx' '468xx' '295xx' '904xx' '492xx' '924xx'\n",
      " '954xx' '260xx' '479xx' '388xx' '947xx' '120xx' '633xx' '764xx' '327xx'\n",
      " '380xx' '897xx' '174xx' '570xx' '108xx' '032xx' '069xx' '138xx' '707xx'\n",
      " '014xx' '381xx' '022xx' '385xx' '489xx' '383xx' '131xx' '560xx' '384xx'\n",
      " '254xx' '657xx' '281xx' '376xx' '671xx' '736xx' '186xx' '242xx' '828xx'\n",
      " '364xx' '061xx' '795xx' '810xx' '625xx' '571xx' '147xx' '195xx' '282xx'\n",
      " '565xx' '435xx' '159xx' '912xx' '025xx' '362xx' '701xx' '236xx' '298xx'\n",
      " '027xx' '454xx' '937xx' '777xx' '535xx' '317xx' '476xx' '658xx' '778xx'\n",
      " '574xx' '629xx' '944xx' '812xx' '843xx' '165xx' '814xx' '230xx' '198xx'\n",
      " '031xx' '809xx' '355xx' '265xx' '126xx' '616xx' '914xx' '081xx' '350xx'\n",
      " '665xx' '140xx' '356xx' '379xx' '273xx' '386xx' '241xx' '219xx' '145xx'\n",
      " '214xx' '312xx' '293xx' '813xx' '467xx' '676xx' '299xx' '880xx' '653xx'\n",
      " '549xx' '168xx' '057xx' '251xx' '472xx' '475xx' '978xx' '164xx' '223xx'\n",
      " '495xx' '674xx' '667xx' '620xx' '361xx' '804xx' '546xx' '559xx' '597xx'\n",
      " '225xx' '763xx' '661xx' '477xx' '847xx' '599xx' '628xx' '719xx' '062xx'\n",
      " '776xx' '755xx' '666xx' '313xx' '390xx' '011xx' '309xx' '118xx' '263xx'\n",
      " '427xx' '243xx' '215xx' '961xx' '240xx' '084xx' '545xx' '884xx' '227xx'\n",
      " '769xx' '404xx' '993xx' '253xx' '058xx' '406xx' '401xx' '491xx' '149xx'\n",
      " '183xx' '611xx' '359xx' '820xx' '543xx' '360xx' '119xx' '182xx' '863xx'\n",
      " '258xx' '239xx' '497xx' '420xx' '357xx' '874xx' '991xx' '255xx' '378xx'\n",
      " '153xx' '478xx' '445xx' '434xx' '287xx' '734xx' '172xx' '171xx' '319xx'\n",
      " '882xx' '421xx' '377xx' '624xx' '673xx' '424xx' '879xx' '898xx' '792xx'\n",
      " '767xx' '827xx' '485xx' '749xx' '392xx' '063xx' '422xx' '798xx' '646xx'\n",
      " '038xx' '873xx' '448xx' '595xx' '469xx' '079xx' '637xx' '016xx' '177xx'\n",
      " '173xx' '155xx' '807xx' '864xx' '116xx' '034xx' '374xx' '855xx' '729xx'\n",
      " '654xx' '288xx' '268xx' '575xx' '743xx' '910xx' '012xx' '789xx' '639xx'\n",
      " '464xx' '877xx' '893xx' '416xx' '013xx' '721xx' '056xx' '608xx' '387xx'\n",
      " '106xx' '860xx' '790xx' '466xx' '382xx' '979xx' '677xx' '363xx' '634xx'\n",
      " '602xx' '888xx' '539xx' '137xx' '557xx' '455xx' '758xx' '997xx' '573xx'\n",
      " '714xx' '556xx' '409xx' '438xx' '499xx' '162xx' '716xx' '102xx' '148xx'\n",
      " '645xx' '425xx' '962xx' '572xx' '668xx' '470xx' '267xx' '398xx' '196xx'\n",
      " '411xx' '229xx' '618xx' '607xx' '052xx' '623xx' '035xx' '415xx' '412xx'\n",
      " '091xx' '154xx' '881xx' '246xx' '999xx' '614xx' '938xx' '558xx' '725xx'\n",
      " '718xx' '591xx' '638xx' '724xx' '844xx' '124xx' '332xx' '407xx' '266xx'\n",
      " '367xx' '824xx' '289xx' '036xx' '538xx' '830xx' '567xx' '423xx' '158xx'\n",
      " '753xx' '249xx' '262xx' '739xx' '135xx' '576xx' '540xx' '457xx' '391xx'\n",
      " '396xx' '883xx' '598xx' '169xx' '417xx' '397xx' '426xx' '188xx' '745xx'\n",
      " '738xx' '963xx' '680xx' '413xx' '865xx' '593xx' '994xx' '831xx' '825xx'\n",
      " '523xx' '247xx' '248xx' '418xx' '592xx' '823xx' '772xx' '007xx' '167xx'\n",
      " '259xx' '033xx' '050xx' '635xx' '845xx' '043xx' '252xx' '836xx' '408xx'\n",
      " '094xx' '832xx' '522xx' '878xx' '389xx' '527xx' '369xx' '311xx' '096xx'\n",
      " '098xx' '969xx' '008xx' '516xx' '059xx' '514xx' '837xx' '375xx' '414xx'\n",
      " '524xx' '681xx' '500xx' '429xx' '092xx' '833xx' '854xx' '838xx' '691xx'\n",
      " '204xx' '643xx' '834xx' '093xx' '528xx' '044xx' '041xx' '821xx' '942xx'\n",
      " '685xx' '663xx' '513xx' '682xx' '049xx' '203xx' '353xx' '965xx' '503xx'\n",
      " '889xx' '040xx' '510xx' '909xx' '569xx' '502xx' '340xx']\n",
      "\n",
      "addr_state\n",
      "['IN' 'TX' 'AZ' 'OK' 'GA' 'CA' 'NJ' 'MA' 'IL' 'SC' 'VA' 'NY' 'CT' 'CO'\n",
      " 'WV' 'DE' 'AL' 'NC' 'TN' 'AK' 'WA' 'AR' 'OH' 'MD' 'NV' 'LA' 'FL' 'PA'\n",
      " 'MN' 'MI' 'OR' 'WY' 'MS' 'RI' 'NM' 'UT' 'WI' 'MO' 'KS' 'DC' 'MT' 'HI'\n",
      " 'KY' 'VT' 'NH' 'SD' 'NE' 'IA' 'ME' 'ID']\n",
      "\n",
      "earliest_cr_line\n",
      "['Apr-92' 'Oct-94' 'Mar-94' 'Feb-00' 'Mar-01' 'Oct-05' 'May-94' 'Aug-98'\n",
      " 'Sep-03' 'Sep-02' 'Dec-98' 'Oct-99' 'Jun-96' 'Nov-00' 'Jul-06' 'Oct-00'\n",
      " 'Mar-06' 'Apr-95' 'Oct-86' 'Jan-07' 'Sep-97' 'May-97' 'Apr-07' 'Mar-08'\n",
      " 'May-05' 'Nov-97' 'Oct-96' 'May-07' 'Feb-02' 'Jan-99' 'Sep-00' 'Jun-00'\n",
      " 'Sep-98' 'Sep-11' 'Jul-86' 'Sep-07' 'Jun-94' 'May-91' 'Mar-02' 'Mar-10'\n",
      " 'Aug-02' 'Apr-86' 'Apr-90' 'Nov-02' 'Dec-89' 'Aug-66' 'Nov-96' 'Jun-01'\n",
      " 'Aug-01' 'Sep-95' 'Mar-84' 'Aug-04' 'Oct-85' 'Dec-01' 'Apr-98' 'Jun-93'\n",
      " 'May-02' 'Feb-98' 'Jan-87' 'Sep-81' 'Jan-03' 'Sep-99' 'Jan-97' 'Feb-08'\n",
      " 'Nov-99' 'Feb-01' 'Apr-96' 'May-87' 'Mar-04' 'Sep-05' 'Sep-86' 'Oct-93'\n",
      " 'Oct-06' 'Apr-00' 'Dec-02' 'Jan-06' 'Dec-96' 'Jun-03' 'Jan-04' 'Jun-99'\n",
      " 'Aug-97' 'Aug-00' 'Jul-93' 'May-98' 'Jan-93' 'Nov-01' 'Oct-78' 'Aug-76'\n",
      " 'Jul-91' 'Jan-84' 'Oct-98' 'Jul-84' 'Mar-99' 'Aug-77' 'Dec-75' 'Feb-90'\n",
      " 'Jun-04' 'May-01' 'Nov-98' 'Feb-86' 'Jan-92' 'Dec-95' 'May-78' 'Mar-96'\n",
      " 'Oct-03' 'Sep-94' 'Feb-06' 'Feb-94' 'Mar-63' 'Nov-88' 'Aug-94' 'Oct-02'\n",
      " 'Nov-03' 'Jan-94' 'Jan-91' 'May-96' 'Oct-83' 'Jul-99' 'Nov-84' 'Jun-02'\n",
      " 'Aug-08' 'Jul-00' 'Aug-86' 'Apr-91' 'Feb-91' 'Dec-93' 'May-06' 'May-71'\n",
      " 'Jan-98' 'Jan-95' 'Mar-98' 'Apr-05' 'Nov-70' 'Apr-03' 'Jun-90' 'Jun-07'\n",
      " 'Feb-03' 'Dec-94' 'Aug-92' 'Sep-93' 'Jul-08' 'Dec-00' 'Dec-06' 'Aug-87'\n",
      " 'Nov-93' 'Jan-96' 'Mar-93' 'Feb-05' 'May-04' 'Oct-97' 'Aug-93' 'May-89'\n",
      " 'Apr-10' 'Mar-83' 'Jul-03' 'Nov-79' 'Oct-91' 'Jan-85' 'Apr-89' 'Oct-01'\n",
      " 'May-00' 'Nov-95' 'Mar-91' 'Jul-07' 'Apr-97' 'Apr-04' 'Oct-04' 'Sep-84'\n",
      " 'Feb-88' 'Sep-04' 'Nov-86' 'Jun-95' 'Jan-88' 'Jul-01' 'Nov-81' 'Dec-97'\n",
      " 'Sep-01' 'Oct-90' 'Apr-94' 'Aug-90' 'Sep-09' 'Jun-10' 'Jan-83' 'Nov-10'\n",
      " 'May-09' 'Apr-77' 'May-92' 'Oct-62' 'May-03' 'Mar-92' 'Sep-06' 'Mar-89'\n",
      " 'Nov-78' 'Jun-98' 'Jun-97' 'Feb-07' 'Jul-02' 'Jan-08' 'Mar-90' 'Apr-01'\n",
      " 'Oct-87' 'Nov-94' 'Aug-07' 'Aug-91' 'Aug-89' 'Feb-09' 'Jul-09' 'Jun-08'\n",
      " 'Jul-05' 'Jan-09' 'Mar-00' 'Jan-01' 'May-99' 'Feb-85' 'Aug-99' 'Nov-09'\n",
      " 'Apr-87' 'Dec-05' 'Mar-03' 'Jan-90' 'Apr-08' 'Dec-91' 'Jul-97' 'Oct-09'\n",
      " 'Dec-84' 'Jul-94' 'Feb-84' 'May-95' 'Jul-89' 'Jun-92' 'Dec-99' 'Feb-93'\n",
      " 'Dec-90' 'Apr-84' 'Sep-08' 'Jan-05' 'Sep-96' 'Feb-99' 'Dec-88' 'May-93'\n",
      " 'Oct-10' 'Jul-96' 'Jul-04' 'Nov-90' 'Feb-82' 'Jan-82' 'Dec-78' 'Feb-95'\n",
      " 'Sep-72' 'Nov-87' 'Oct-88' 'Apr-93' 'Sep-90' 'Feb-87' 'Aug-85' 'Sep-89'\n",
      " 'Jul-88' 'Jun-06' 'Mar-97' 'Mar-76' 'Nov-07' 'Nov-06' 'Dec-86' 'Feb-04'\n",
      " 'Sep-92' 'Mar-07' 'Aug-95' 'Aug-06' 'Jul-92' 'May-84' 'Jan-02' 'Jan-00'\n",
      " 'Dec-03' 'Nov-91' 'Aug-03' 'Jul-98' 'Aug-05' 'Oct-75' 'Jul-90' 'Apr-99'\n",
      " 'Jun-05' 'Oct-07' 'Nov-66' 'Oct-92' 'Mar-09' 'Mar-77' 'Sep-83' 'Apr-02'\n",
      " 'Oct-95' 'Apr-06' 'Feb-96' 'Jun-88' 'Mar-87' 'Aug-96' 'Nov-04' 'Nov-85'\n",
      " 'Oct-76' 'Sep-87' 'Oct-81' 'May-77' 'Nov-05' 'May-10' 'Nov-92' 'May-86'\n",
      " 'Feb-97' 'Nov-82' 'Mar-11' 'Aug-81' 'May-82' 'Dec-04' 'Jul-87' 'Feb-89'\n",
      " 'Jul-83' 'Apr-75' 'Nov-08' 'Jun-89' 'May-79' 'Jul-95' 'Jul-10' 'Mar-86'\n",
      " 'Oct-84' 'Mar-80' 'Jan-10' 'Mar-73' 'Dec-07' 'Feb-79' 'Aug-88' 'Jun-91'\n",
      " 'Jun-76' 'Mar-95' 'Feb-92' 'Jul-71' 'May-83' 'May-08' 'Dec-09' 'Jan-86'\n",
      " 'Jan-89' 'Dec-82' 'Jun-85' 'Mar-88' 'May-85' 'Sep-91' 'Aug-83' 'Aug-72'\n",
      " 'Mar-85' 'May-90' 'Nov-89' 'Jun-82' 'Apr-78' 'Oct-79' 'Apr-85' 'Apr-88'\n",
      " 'Jun-72' 'Apr-83' 'Feb-11' 'Jul-73' 'Sep-85' 'Oct-80' 'Dec-87' 'Sep-74'\n",
      " 'Aug-78' 'Feb-83' 'Mar-75' 'Nov-64' 'Jul-85' 'May-88' 'Aug-09' 'Jun-86'\n",
      " 'Sep-80' 'Jan-79' 'Oct-08' 'Apr-82' 'Feb-10' 'Dec-92' 'Oct-82' 'Dec-83'\n",
      " 'Apr-79' 'Jun-87' 'Sep-77' 'Jun-09' 'Nov-75' 'Oct-69' 'Sep-78' 'Mar-69'\n",
      " 'Dec-85' 'Dec-66' 'Nov-80' 'Aug-80' 'Jan-71' 'Aug-64' 'Jul-78' 'Jan-78'\n",
      " 'Jan-77' 'Jul-77' 'Jan-76' 'Nov-71' 'Nov-83' 'Jan-67' 'Nov-77' 'Jan-11'\n",
      " 'Aug-84' 'Jun-69' 'Sep-88' 'Jun-79' 'Jul-72' 'Feb-77' 'Mar-05' 'Jun-81'\n",
      " 'Jan-72' 'Jan-75' 'Aug-82' 'Jul-81' 'Dec-80' 'Apr-09' 'Sep-76' 'Dec-74'\n",
      " 'Jun-84' 'Sep-69' 'Jun-67' 'Jan-69' 'Nov-72' 'Dec-72' 'Dec-08' 'Mar-81'\n",
      " 'Dec-81' 'Jun-83' 'Jan-70' 'Oct-73' 'Jul-79' 'Jun-78' 'May-81' 'Oct-65'\n",
      " 'Sep-10' 'Aug-74' 'Dec-76' 'Oct-72' 'Nov-74' 'Dec-71' 'Sep-79' 'Jun-11'\n",
      " 'Jul-68' 'Apr-76' 'May-76' 'Mar-82' 'Sep-82' 'Feb-78' 'Jun-73' 'Oct-11'\n",
      " 'Nov-69' 'Jan-80' 'Mar-78' 'May-73' 'Dec-73' 'Sep-75' 'Oct-89' 'Mar-68'\n",
      " 'Jul-69' 'Sep-66' 'May-69' 'Jul-76' 'Dec-10' 'Aug-10' 'Aug-75' 'Oct-77'\n",
      " 'Sep-68' 'Jun-77' 'Oct-67' 'Sep-73' 'Jul-65' 'Aug-70' 'Apr-81' 'Jul-82'\n",
      " 'Feb-81' 'Jul-80' 'Aug-11' 'Feb-80' 'Apr-11' 'Aug-68' 'Nov-68' 'Mar-74'\n",
      " 'May-80' 'Feb-73' 'Apr-70' 'Apr-80' 'Jul-67' 'Jun-68' 'Jun-75' 'Jan-81'\n",
      " 'Oct-70' 'Oct-74' 'Feb-75' 'Oct-71' 'Jul-74' 'Mar-71' 'Aug-71' 'Jan-73'\n",
      " 'Dec-77' 'Jun-74' 'Mar-72' 'Feb-69' 'Apr-72' 'Nov-76' 'May-11' 'Dec-79'\n",
      " 'Jul-11' 'Feb-72' 'Sep-65' 'Dec-70' 'Aug-79' 'Sep-70' 'Dec-69' 'Sep-71'\n",
      " 'May-70' 'Apr-71' 'Apr-69' 'Apr-73' 'May-74' 'Aug-67' 'Mar-70' 'Jul-75'\n",
      " 'Jun-71' 'Feb-65' 'Apr-74' 'Feb-76' 'Mar-79' 'Aug-73' 'Oct-68' 'Jul-64'\n",
      " 'Apr-68' 'Jun-80' 'Feb-71' 'May-67' 'May-75' 'Jan-60' 'Feb-74' nan\n",
      " 'Dec-58' 'Nov-73' 'Apr-65' 'Apr-67' 'Jul-66' 'Jun-65' 'Sep-64' 'Nov-65'\n",
      " 'Jul-59' 'Aug-63' 'Mar-66' 'Jun-66' 'Mar-67' 'Dec-63' 'Aug-69' 'Dec-64'\n",
      " 'Apr-66' 'Aug-65' 'Sep-67' 'May-72' 'Oct-64' 'Jun-58' 'Jan-74' 'Nov-61'\n",
      " 'Feb-67' 'Dec-56' 'Jan-51' 'Dec-65' 'May-65' 'Feb-70' 'Nov-62' 'Jul-70'\n",
      " 'Jul-55' 'May-58' 'Jun-70' 'Nov-60' 'Apr-64' 'Jan-62' 'Dec-68' 'Sep-62'\n",
      " 'Feb-68' 'Jan-61' 'Feb-66' 'Feb-57' 'Jan-66' 'Sep-59' 'Dec-67' 'Nov-63'\n",
      " 'Jan-64' 'May-68' 'Nov-67' 'Dec-50' 'Feb-60' 'Oct-63' 'Nov-58' 'Oct-60'\n",
      " 'Nov-59' 'Jan-56' 'May-63' 'Jul-63' 'Jan-63' 'Oct-50' 'Mar-61' 'Jun-60'\n",
      " 'Oct-59' 'Oct-66' 'Jun-64' 'Jun-63' 'Jul-61' 'Oct-58' 'Nov-54' 'Jan-68'\n",
      " 'Jan-65' 'Sep-63' 'Oct-61' 'Aug-58' 'Jan-58' 'Mar-65' 'Mar-64' 'Dec-60'\n",
      " 'Jan-55' 'May-64' 'Jun-49' 'Feb-64' 'Jul-62' 'Nov-55' 'May-66' 'Apr-63'\n",
      " 'Nov-11' 'Jul-60' 'Apr-62' 'Nov-53' 'Jun-59' 'Jan-54' 'Aug-60' 'May-59'\n",
      " 'May-62' 'Oct-54' 'Dec-62' 'Nov-56' 'Aug-46' 'Feb-63' 'Jan-59' 'Mar-62'\n",
      " 'Jun-62' 'Jun-61' 'Jan-46' 'May-60' 'Jan-57' 'Dec-61' 'Mar-60' 'Sep-60'\n",
      " 'Mar-59' 'Jul-58' 'May-53' 'Sep-56' 'Aug-61' 'Jan-44' 'Dec-51' 'Aug-62'\n",
      " 'May-50' 'Jan-48' 'Apr-55' 'Apr-61' 'Feb-61']\n",
      "\n",
      "initial_list_status\n",
      "['w' 'f']\n",
      "\n",
      "last_pymnt_d\n",
      "['Jan-16' 'Dec-13' 'Mar-15' 'Aug-15' 'Oct-15' 'Feb-13' 'Nov-14' 'Nov-10'\n",
      " 'Jan-14' 'Sep-11' 'Apr-15' 'Aug-14' 'Jul-13' 'Nov-13' 'Jun-15' 'May-15'\n",
      " 'Dec-15' 'Jul-15' 'Sep-12' 'Sep-14' 'Aug-11' 'Aug-13' 'Mar-14' 'Nov-15'\n",
      " 'Jun-13' 'Oct-14' 'Aug-10' 'Jul-14' 'Dec-14' 'Jan-15' 'Sep-13' 'May-13'\n",
      " 'Apr-14' 'Aug-12' 'Feb-14' 'Oct-13' 'May-14' 'Sep-15' 'Feb-15' 'Mar-11'\n",
      " 'Jun-14' 'Nov-08' 'Jul-12' 'Feb-12' 'Jan-13' 'Oct-10' 'Mar-13' 'Feb-09'\n",
      " 'Oct-12' 'Dec-12' 'Nov-12' nan 'Oct-11' 'Sep-10' 'May-12' 'Dec-11'\n",
      " 'Jul-11' 'Dec-10' 'Feb-10' 'May-11' 'Apr-13' 'Feb-11' 'Mar-12' 'Jun-12'\n",
      " 'Jun-11' 'Jan-11' 'Apr-12' 'Aug-09' 'Jan-12' 'Sep-09' 'Nov-11' 'Sep-08'\n",
      " 'Apr-11' 'Jul-10' 'Oct-09' 'Apr-10' 'Jun-10' 'Jun-09' 'Dec-09' 'May-10'\n",
      " 'Jul-09' 'Jul-08' 'Nov-09' 'Jan-10' 'Oct-08' 'Mar-10' 'May-09' 'Dec-08'\n",
      " 'Aug-08' 'Jan-09' 'Apr-09' 'Mar-09' 'May-08' 'Apr-08' 'Jun-08' 'Mar-08'\n",
      " 'Feb-08' 'Jan-08' 'Dec-07']\n",
      "\n",
      "next_pymnt_d\n",
      "['Jan-16' nan 'Feb-16' 'Sep-11' 'Sep-12' 'Nov-09' 'Mar-09' 'Jun-12'\n",
      " 'Dec-12' 'Feb-11' 'Jul-12' 'Apr-11' 'Oct-09' 'Dec-13' 'Feb-12' 'Jan-13'\n",
      " 'Feb-10' 'Nov-15' 'Feb-13' 'Apr-13' 'Oct-13' 'Feb-09' 'Dec-10' 'May-10'\n",
      " 'Aug-08' 'Mar-12' 'Jul-10' 'Jan-11' 'Jun-11' 'Jun-09' 'Mar-10' 'Dec-09'\n",
      " 'Aug-13' 'Mar-11' 'Aug-09' 'Jan-09' 'Aug-12' 'May-11' 'Dec-11' 'Oct-10'\n",
      " 'Nov-11' 'Jul-11' 'Oct-11' 'Sep-09' 'Aug-11' 'Oct-12' 'Jul-14' 'Sep-14'\n",
      " 'Jan-12' 'Mar-16' 'May-12' 'Apr-12' 'May-13' 'May-15' 'Nov-10' 'Mar-13'\n",
      " 'Jul-09' 'Dec-15' 'Jun-13' 'Jun-08' 'Nov-13' 'Apr-10' 'Aug-10' 'Sep-15'\n",
      " 'Apr-09' 'May-14' 'Sep-10' 'Oct-15' 'Aug-15' 'Apr-15' 'Mar-14' 'Dec-08'\n",
      " 'Jul-13' 'Nov-08' 'Jan-14' 'Nov-12' 'Jan-10' 'Jan-15' 'Jun-10' 'Aug-14'\n",
      " 'May-09' 'Oct-08' 'Dec-14' 'Sep-13' 'Jul-08' 'Oct-14' 'Sep-08' 'Jan-08'\n",
      " 'May-08' 'Feb-15' 'Jul-15' 'Feb-14' 'Nov-14' 'Dec-07' 'Feb-08' 'Apr-08'\n",
      " 'Jun-15' 'Jun-14' 'Mar-08' 'Apr-14']\n",
      "\n",
      "last_credit_pull_d\n",
      "['Jan-16' 'May-14' 'Mar-15' 'Apr-15' 'Aug-11' 'Dec-13' 'Jul-13' 'Mar-14'\n",
      " 'Aug-14' 'Jul-15' 'Dec-15' 'Jun-15' 'Aug-15' 'Sep-12' 'Sep-14' 'Dec-11'\n",
      " 'Aug-13' 'Apr-14' 'Nov-15' 'Oct-15' 'Feb-15' 'May-15' 'Jan-15' 'Jun-14'\n",
      " 'Sep-15' 'Aug-12' 'Feb-14' 'Feb-13' 'Jul-14' 'Mar-11' 'May-13' 'Nov-09'\n",
      " 'Dec-14' 'Jun-12' 'Feb-12' 'Sep-10' 'Oct-13' 'Nov-14' 'Feb-10' 'Jan-14'\n",
      " 'Nov-13' 'Dec-12' 'Oct-14' 'Apr-12' 'Oct-10' 'Jun-13' 'Sep-13' 'May-12'\n",
      " 'Apr-13' 'Oct-11' 'Jul-12' 'Jun-11' 'May-11' 'Nov-12' 'Sep-11' 'Feb-11'\n",
      " 'Oct-12' 'Mar-12' 'Mar-10' 'Nov-11' 'Apr-11' 'Nov-10' 'Sep-09' 'Jul-10'\n",
      " 'Jan-12' 'Jan-13' 'Mar-13' 'Jul-11' 'Jun-10' 'Jan-09' 'May-10' nan\n",
      " 'Apr-10' 'Dec-09' 'Jul-09' 'Jan-11' 'Dec-10' 'Oct-09' 'Dec-08' 'Feb-09'\n",
      " 'Aug-07' 'Aug-10' 'Jun-07' 'May-07' 'Jun-09' 'Dec-07' 'Mar-08' 'Jan-10'\n",
      " 'Mar-09' 'Aug-09' 'Feb-08' 'Oct-08' 'May-09' 'Aug-08' 'Apr-09' 'Jan-08'\n",
      " 'Sep-08' 'Sep-07' 'Oct-07' 'Nov-07' 'Jul-08' 'Jun-08' 'May-08']\n",
      "\n",
      "application_type\n",
      "['INDIVIDUAL']\n",
      "\n"
     ]
    }
   ],
   "source": [
    "for col in x_train.select_dtypes(include=[\"object\",\"bool\"]).columns:\n",
    "    print(col)\n",
    "    print(x_train[col].unique())\n",
    "    print()"
   ]
  },
  {
   "cell_type": "markdown",
   "id": "d05d5952",
   "metadata": {},
   "source": [
    "term : should be numeric  \n",
    "emp_length : should be numeric  \n",
    "issue_d, earliest_cr_line, last_pymnt_d, next_pymnt_d, last_credit_pull_d : should be datetime"
   ]
  },
  {
   "cell_type": "code",
   "execution_count": 839,
   "id": "89606d51",
   "metadata": {},
   "outputs": [],
   "source": [
    "col_to_clean=[\"term\",\"emp_length\",\"issue_d\",\"earliest_cr_line\",\n",
    "              \"last_pymnt_d\",\"next_pymnt_d\",\"last_credit_pull_d\"]"
   ]
  },
  {
   "cell_type": "code",
   "execution_count": 840,
   "id": "92e0ce10",
   "metadata": {},
   "outputs": [
    {
     "data": {
      "text/plain": [
       "array([' 60 months', ' 36 months'], dtype=object)"
      ]
     },
     "execution_count": 840,
     "metadata": {},
     "output_type": "execute_result"
    }
   ],
   "source": [
    "x_train[\"term\"].unique()"
   ]
  },
  {
   "cell_type": "code",
   "execution_count": 841,
   "id": "960ceb11",
   "metadata": {},
   "outputs": [],
   "source": [
    "x_train[\"term\"]=x_train[\"term\"].str.replace(\" months\",\"\")\n",
    "x_train[\"term\"]=x_train[\"term\"].str.replace(\" \",\"\")"
   ]
  },
  {
   "cell_type": "code",
   "execution_count": 842,
   "id": "9bf0a611",
   "metadata": {},
   "outputs": [],
   "source": [
    "x_train[\"term\"]=x_train[\"term\"].astype(int)"
   ]
  },
  {
   "cell_type": "code",
   "execution_count": 843,
   "id": "76f78f3e",
   "metadata": {},
   "outputs": [
    {
     "data": {
      "text/plain": [
       "335623    60\n",
       "82177     36\n",
       "339560    36\n",
       "429575    36\n",
       "264917    36\n",
       "          ..\n",
       "85335     36\n",
       "400460    36\n",
       "3982      60\n",
       "280424    36\n",
       "354718    36\n",
       "Name: term, Length: 373028, dtype: int64"
      ]
     },
     "execution_count": 843,
     "metadata": {},
     "output_type": "execute_result"
    }
   ],
   "source": [
    "x_train[\"term\"]"
   ]
  },
  {
   "cell_type": "code",
   "execution_count": 844,
   "id": "43c10d6c",
   "metadata": {},
   "outputs": [
    {
     "data": {
      "text/plain": [
       "335623      9 years\n",
       "82177       2 years\n",
       "339560    10+ years\n",
       "429575    10+ years\n",
       "264917       1 year\n",
       "            ...    \n",
       "85335       2 years\n",
       "400460      4 years\n",
       "3982        4 years\n",
       "280424       1 year\n",
       "354718     < 1 year\n",
       "Name: emp_length, Length: 373028, dtype: object"
      ]
     },
     "execution_count": 844,
     "metadata": {},
     "output_type": "execute_result"
    }
   ],
   "source": [
    "x_train[\"emp_length\"]"
   ]
  },
  {
   "cell_type": "code",
   "execution_count": 845,
   "id": "aa34ce8d",
   "metadata": {},
   "outputs": [
    {
     "data": {
      "text/plain": [
       "(373028, 53)"
      ]
     },
     "execution_count": 845,
     "metadata": {},
     "output_type": "execute_result"
    }
   ],
   "source": [
    "x_train.shape"
   ]
  },
  {
   "cell_type": "code",
   "execution_count": 846,
   "id": "cf77f935",
   "metadata": {},
   "outputs": [
    {
     "name": "stderr",
     "output_type": "stream",
     "text": [
      "C:\\Users\\micha\\AppData\\Local\\Temp\\ipykernel_3836\\914135007.py:10: FutureWarning: A value is trying to be set on a copy of a DataFrame or Series through chained assignment using an inplace method.\n",
      "The behavior will change in pandas 3.0. This inplace method will never work because the intermediate object on which we are setting values always behaves as a copy.\n",
      "\n",
      "For example, when doing 'df[col].method(value, inplace=True)', try using 'df.method({col: value}, inplace=True)' or df[col] = df[col].method(value) instead, to perform the operation inplace on the original object.\n",
      "\n",
      "\n",
      "  x_train[\"emp_length\"].fillna(0,inplace=True)\n"
     ]
    }
   ],
   "source": [
    "# \"Length of work in years. Possible values are between 0 and 10\n",
    "# where 0 means less than one year and 10 means ten years or more.\"\n",
    "\n",
    "x_train[\"emp_length\"]=x_train[\"emp_length\"].str.replace(\"+\",\"\")\n",
    "x_train[\"emp_length\"]=x_train[\"emp_length\"].str.replace(\" years\",\"\")\n",
    "x_train[\"emp_length\"]=x_train[\"emp_length\"].str.replace(\"< 1 year\",\"0\")\n",
    "x_train[\"emp_length\"]=x_train[\"emp_length\"].str.replace(\" year\",\"\")\n",
    "\n",
    "# You can fill it with a value of 0, and here I apply this.\n",
    "x_train[\"emp_length\"].fillna(0,inplace=True)\n"
   ]
  },
  {
   "cell_type": "code",
   "execution_count": 847,
   "id": "7c75a7af",
   "metadata": {},
   "outputs": [
    {
     "data": {
      "text/plain": [
       "335623     9\n",
       "82177      2\n",
       "339560    10\n",
       "429575    10\n",
       "264917     1\n",
       "          ..\n",
       "85335      2\n",
       "400460     4\n",
       "3982       4\n",
       "280424     1\n",
       "354718     0\n",
       "Name: emp_length, Length: 373028, dtype: object"
      ]
     },
     "execution_count": 847,
     "metadata": {},
     "output_type": "execute_result"
    }
   ],
   "source": [
    "x_train[\"emp_length\"]"
   ]
  },
  {
   "cell_type": "code",
   "execution_count": 848,
   "id": "5622c7f9",
   "metadata": {},
   "outputs": [
    {
     "data": {
      "text/plain": [
       "(373028, 53)"
      ]
     },
     "execution_count": 848,
     "metadata": {},
     "output_type": "execute_result"
    }
   ],
   "source": [
    "x_train.shape"
   ]
  },
  {
   "cell_type": "code",
   "execution_count": 849,
   "id": "170732e2",
   "metadata": {},
   "outputs": [
    {
     "data": {
      "text/plain": [
       "array(['9', '2', '10', '1', '0', '8', 0, '6', '3', '4', '5', '7'],\n",
       "      dtype=object)"
      ]
     },
     "execution_count": 849,
     "metadata": {},
     "output_type": "execute_result"
    }
   ],
   "source": [
    "x_train[\"emp_length\"].unique()"
   ]
  },
  {
   "cell_type": "code",
   "execution_count": 850,
   "id": "8c52891f",
   "metadata": {},
   "outputs": [],
   "source": [
    "x_train[\"emp_length\"]=x_train[\"emp_length\"].astype(int)"
   ]
  },
  {
   "cell_type": "code",
   "execution_count": 851,
   "id": "e4255841",
   "metadata": {},
   "outputs": [
    {
     "data": {
      "text/plain": [
       "335623     9\n",
       "82177      2\n",
       "339560    10\n",
       "429575    10\n",
       "264917     1\n",
       "          ..\n",
       "85335      2\n",
       "400460     4\n",
       "3982       4\n",
       "280424     1\n",
       "354718     0\n",
       "Name: emp_length, Length: 373028, dtype: int64"
      ]
     },
     "execution_count": 851,
     "metadata": {},
     "output_type": "execute_result"
    }
   ],
   "source": [
    "x_train[\"emp_length\"]"
   ]
  },
  {
   "cell_type": "code",
   "execution_count": 852,
   "id": "d77e04a9",
   "metadata": {},
   "outputs": [
    {
     "data": {
      "text/plain": [
       "['term',\n",
       " 'emp_length',\n",
       " 'issue_d',\n",
       " 'earliest_cr_line',\n",
       " 'last_pymnt_d',\n",
       " 'next_pymnt_d',\n",
       " 'last_credit_pull_d']"
      ]
     },
     "execution_count": 852,
     "metadata": {},
     "output_type": "execute_result"
    }
   ],
   "source": [
    "col_to_clean"
   ]
  },
  {
   "cell_type": "code",
   "execution_count": 853,
   "id": "3a08329d",
   "metadata": {},
   "outputs": [],
   "source": [
    "col_date=['issue_d',\n",
    " 'earliest_cr_line',\n",
    " 'last_pymnt_d',\n",
    " 'next_pymnt_d',\n",
    " 'last_credit_pull_d']"
   ]
  },
  {
   "cell_type": "code",
   "execution_count": 854,
   "id": "0532cdfa",
   "metadata": {},
   "outputs": [
    {
     "data": {
      "text/html": [
       "<div>\n",
       "<style scoped>\n",
       "    .dataframe tbody tr th:only-of-type {\n",
       "        vertical-align: middle;\n",
       "    }\n",
       "\n",
       "    .dataframe tbody tr th {\n",
       "        vertical-align: top;\n",
       "    }\n",
       "\n",
       "    .dataframe thead th {\n",
       "        text-align: right;\n",
       "    }\n",
       "</style>\n",
       "<table border=\"1\" class=\"dataframe\">\n",
       "  <thead>\n",
       "    <tr style=\"text-align: right;\">\n",
       "      <th></th>\n",
       "      <th>issue_d</th>\n",
       "      <th>earliest_cr_line</th>\n",
       "      <th>last_pymnt_d</th>\n",
       "      <th>next_pymnt_d</th>\n",
       "      <th>last_credit_pull_d</th>\n",
       "    </tr>\n",
       "  </thead>\n",
       "  <tbody>\n",
       "    <tr>\n",
       "      <th>335623</th>\n",
       "      <td>Jul-14</td>\n",
       "      <td>Apr-92</td>\n",
       "      <td>Jan-16</td>\n",
       "      <td>Jan-16</td>\n",
       "      <td>Jan-16</td>\n",
       "    </tr>\n",
       "    <tr>\n",
       "      <th>82177</th>\n",
       "      <td>Oct-13</td>\n",
       "      <td>Oct-94</td>\n",
       "      <td>Dec-13</td>\n",
       "      <td>NaN</td>\n",
       "      <td>May-14</td>\n",
       "    </tr>\n",
       "    <tr>\n",
       "      <th>339560</th>\n",
       "      <td>Jul-14</td>\n",
       "      <td>Mar-94</td>\n",
       "      <td>Mar-15</td>\n",
       "      <td>NaN</td>\n",
       "      <td>Mar-15</td>\n",
       "    </tr>\n",
       "    <tr>\n",
       "      <th>429575</th>\n",
       "      <td>Mar-14</td>\n",
       "      <td>Feb-00</td>\n",
       "      <td>Aug-15</td>\n",
       "      <td>NaN</td>\n",
       "      <td>Jan-16</td>\n",
       "    </tr>\n",
       "    <tr>\n",
       "      <th>264917</th>\n",
       "      <td>Oct-14</td>\n",
       "      <td>Mar-01</td>\n",
       "      <td>Oct-15</td>\n",
       "      <td>Jan-16</td>\n",
       "      <td>Jan-16</td>\n",
       "    </tr>\n",
       "    <tr>\n",
       "      <th>...</th>\n",
       "      <td>...</td>\n",
       "      <td>...</td>\n",
       "      <td>...</td>\n",
       "      <td>...</td>\n",
       "      <td>...</td>\n",
       "    </tr>\n",
       "    <tr>\n",
       "      <th>85335</th>\n",
       "      <td>Sep-13</td>\n",
       "      <td>Jun-89</td>\n",
       "      <td>Jan-16</td>\n",
       "      <td>Jan-16</td>\n",
       "      <td>Jan-16</td>\n",
       "    </tr>\n",
       "    <tr>\n",
       "      <th>400460</th>\n",
       "      <td>Apr-14</td>\n",
       "      <td>Aug-99</td>\n",
       "      <td>Jan-16</td>\n",
       "      <td>Feb-16</td>\n",
       "      <td>Jan-16</td>\n",
       "    </tr>\n",
       "    <tr>\n",
       "      <th>3982</th>\n",
       "      <td>Nov-11</td>\n",
       "      <td>Feb-03</td>\n",
       "      <td>Jun-12</td>\n",
       "      <td>NaN</td>\n",
       "      <td>Nov-12</td>\n",
       "    </tr>\n",
       "    <tr>\n",
       "      <th>280424</th>\n",
       "      <td>Oct-14</td>\n",
       "      <td>Jul-92</td>\n",
       "      <td>Jan-16</td>\n",
       "      <td>Jan-16</td>\n",
       "      <td>Jan-16</td>\n",
       "    </tr>\n",
       "    <tr>\n",
       "      <th>354718</th>\n",
       "      <td>Jul-14</td>\n",
       "      <td>Aug-04</td>\n",
       "      <td>May-15</td>\n",
       "      <td>NaN</td>\n",
       "      <td>Oct-15</td>\n",
       "    </tr>\n",
       "  </tbody>\n",
       "</table>\n",
       "<p>373028 rows × 5 columns</p>\n",
       "</div>"
      ],
      "text/plain": [
       "       issue_d earliest_cr_line last_pymnt_d next_pymnt_d last_credit_pull_d\n",
       "335623  Jul-14           Apr-92       Jan-16       Jan-16             Jan-16\n",
       "82177   Oct-13           Oct-94       Dec-13          NaN             May-14\n",
       "339560  Jul-14           Mar-94       Mar-15          NaN             Mar-15\n",
       "429575  Mar-14           Feb-00       Aug-15          NaN             Jan-16\n",
       "264917  Oct-14           Mar-01       Oct-15       Jan-16             Jan-16\n",
       "...        ...              ...          ...          ...                ...\n",
       "85335   Sep-13           Jun-89       Jan-16       Jan-16             Jan-16\n",
       "400460  Apr-14           Aug-99       Jan-16       Feb-16             Jan-16\n",
       "3982    Nov-11           Feb-03       Jun-12          NaN             Nov-12\n",
       "280424  Oct-14           Jul-92       Jan-16       Jan-16             Jan-16\n",
       "354718  Jul-14           Aug-04       May-15          NaN             Oct-15\n",
       "\n",
       "[373028 rows x 5 columns]"
      ]
     },
     "execution_count": 854,
     "metadata": {},
     "output_type": "execute_result"
    }
   ],
   "source": [
    "x_train[col_date]"
   ]
  },
  {
   "cell_type": "code",
   "execution_count": 855,
   "id": "1ca3c4ab",
   "metadata": {},
   "outputs": [],
   "source": [
    "# x_train[\"issue_d\"]=pd.to_datetime(x_train[\"issue_d\"],format=\"%b-%y\")"
   ]
  },
  {
   "cell_type": "code",
   "execution_count": 856,
   "id": "e0464c1c",
   "metadata": {},
   "outputs": [],
   "source": [
    "# x_train[\"issue_d\"]"
   ]
  },
  {
   "cell_type": "code",
   "execution_count": 857,
   "id": "a1d7e732",
   "metadata": {},
   "outputs": [],
   "source": [
    "for col in col_date:\n",
    "    x_train[col]=pd.to_datetime(x_train[col],format=\"%b-%y\")"
   ]
  },
  {
   "cell_type": "code",
   "execution_count": 858,
   "id": "e29093e8",
   "metadata": {},
   "outputs": [
    {
     "data": {
      "text/html": [
       "<div>\n",
       "<style scoped>\n",
       "    .dataframe tbody tr th:only-of-type {\n",
       "        vertical-align: middle;\n",
       "    }\n",
       "\n",
       "    .dataframe tbody tr th {\n",
       "        vertical-align: top;\n",
       "    }\n",
       "\n",
       "    .dataframe thead th {\n",
       "        text-align: right;\n",
       "    }\n",
       "</style>\n",
       "<table border=\"1\" class=\"dataframe\">\n",
       "  <thead>\n",
       "    <tr style=\"text-align: right;\">\n",
       "      <th></th>\n",
       "      <th>term</th>\n",
       "      <th>emp_length</th>\n",
       "      <th>issue_d</th>\n",
       "      <th>earliest_cr_line</th>\n",
       "      <th>last_pymnt_d</th>\n",
       "      <th>next_pymnt_d</th>\n",
       "      <th>last_credit_pull_d</th>\n",
       "    </tr>\n",
       "  </thead>\n",
       "  <tbody>\n",
       "    <tr>\n",
       "      <th>335623</th>\n",
       "      <td>60</td>\n",
       "      <td>9</td>\n",
       "      <td>2014-07-01</td>\n",
       "      <td>1992-04-01</td>\n",
       "      <td>2016-01-01</td>\n",
       "      <td>2016-01-01</td>\n",
       "      <td>2016-01-01</td>\n",
       "    </tr>\n",
       "    <tr>\n",
       "      <th>82177</th>\n",
       "      <td>36</td>\n",
       "      <td>2</td>\n",
       "      <td>2013-10-01</td>\n",
       "      <td>1994-10-01</td>\n",
       "      <td>2013-12-01</td>\n",
       "      <td>NaT</td>\n",
       "      <td>2014-05-01</td>\n",
       "    </tr>\n",
       "    <tr>\n",
       "      <th>339560</th>\n",
       "      <td>36</td>\n",
       "      <td>10</td>\n",
       "      <td>2014-07-01</td>\n",
       "      <td>1994-03-01</td>\n",
       "      <td>2015-03-01</td>\n",
       "      <td>NaT</td>\n",
       "      <td>2015-03-01</td>\n",
       "    </tr>\n",
       "    <tr>\n",
       "      <th>429575</th>\n",
       "      <td>36</td>\n",
       "      <td>10</td>\n",
       "      <td>2014-03-01</td>\n",
       "      <td>2000-02-01</td>\n",
       "      <td>2015-08-01</td>\n",
       "      <td>NaT</td>\n",
       "      <td>2016-01-01</td>\n",
       "    </tr>\n",
       "    <tr>\n",
       "      <th>264917</th>\n",
       "      <td>36</td>\n",
       "      <td>1</td>\n",
       "      <td>2014-10-01</td>\n",
       "      <td>2001-03-01</td>\n",
       "      <td>2015-10-01</td>\n",
       "      <td>2016-01-01</td>\n",
       "      <td>2016-01-01</td>\n",
       "    </tr>\n",
       "    <tr>\n",
       "      <th>...</th>\n",
       "      <td>...</td>\n",
       "      <td>...</td>\n",
       "      <td>...</td>\n",
       "      <td>...</td>\n",
       "      <td>...</td>\n",
       "      <td>...</td>\n",
       "      <td>...</td>\n",
       "    </tr>\n",
       "    <tr>\n",
       "      <th>85335</th>\n",
       "      <td>36</td>\n",
       "      <td>2</td>\n",
       "      <td>2013-09-01</td>\n",
       "      <td>1989-06-01</td>\n",
       "      <td>2016-01-01</td>\n",
       "      <td>2016-01-01</td>\n",
       "      <td>2016-01-01</td>\n",
       "    </tr>\n",
       "    <tr>\n",
       "      <th>400460</th>\n",
       "      <td>36</td>\n",
       "      <td>4</td>\n",
       "      <td>2014-04-01</td>\n",
       "      <td>1999-08-01</td>\n",
       "      <td>2016-01-01</td>\n",
       "      <td>2016-02-01</td>\n",
       "      <td>2016-01-01</td>\n",
       "    </tr>\n",
       "    <tr>\n",
       "      <th>3982</th>\n",
       "      <td>60</td>\n",
       "      <td>4</td>\n",
       "      <td>2011-11-01</td>\n",
       "      <td>2003-02-01</td>\n",
       "      <td>2012-06-01</td>\n",
       "      <td>NaT</td>\n",
       "      <td>2012-11-01</td>\n",
       "    </tr>\n",
       "    <tr>\n",
       "      <th>280424</th>\n",
       "      <td>36</td>\n",
       "      <td>1</td>\n",
       "      <td>2014-10-01</td>\n",
       "      <td>1992-07-01</td>\n",
       "      <td>2016-01-01</td>\n",
       "      <td>2016-01-01</td>\n",
       "      <td>2016-01-01</td>\n",
       "    </tr>\n",
       "    <tr>\n",
       "      <th>354718</th>\n",
       "      <td>36</td>\n",
       "      <td>0</td>\n",
       "      <td>2014-07-01</td>\n",
       "      <td>2004-08-01</td>\n",
       "      <td>2015-05-01</td>\n",
       "      <td>NaT</td>\n",
       "      <td>2015-10-01</td>\n",
       "    </tr>\n",
       "  </tbody>\n",
       "</table>\n",
       "<p>373028 rows × 7 columns</p>\n",
       "</div>"
      ],
      "text/plain": [
       "        term  emp_length    issue_d earliest_cr_line last_pymnt_d  \\\n",
       "335623    60           9 2014-07-01       1992-04-01   2016-01-01   \n",
       "82177     36           2 2013-10-01       1994-10-01   2013-12-01   \n",
       "339560    36          10 2014-07-01       1994-03-01   2015-03-01   \n",
       "429575    36          10 2014-03-01       2000-02-01   2015-08-01   \n",
       "264917    36           1 2014-10-01       2001-03-01   2015-10-01   \n",
       "...      ...         ...        ...              ...          ...   \n",
       "85335     36           2 2013-09-01       1989-06-01   2016-01-01   \n",
       "400460    36           4 2014-04-01       1999-08-01   2016-01-01   \n",
       "3982      60           4 2011-11-01       2003-02-01   2012-06-01   \n",
       "280424    36           1 2014-10-01       1992-07-01   2016-01-01   \n",
       "354718    36           0 2014-07-01       2004-08-01   2015-05-01   \n",
       "\n",
       "       next_pymnt_d last_credit_pull_d  \n",
       "335623   2016-01-01         2016-01-01  \n",
       "82177           NaT         2014-05-01  \n",
       "339560          NaT         2015-03-01  \n",
       "429575          NaT         2016-01-01  \n",
       "264917   2016-01-01         2016-01-01  \n",
       "...             ...                ...  \n",
       "85335    2016-01-01         2016-01-01  \n",
       "400460   2016-02-01         2016-01-01  \n",
       "3982            NaT         2012-11-01  \n",
       "280424   2016-01-01         2016-01-01  \n",
       "354718          NaT         2015-10-01  \n",
       "\n",
       "[373028 rows x 7 columns]"
      ]
     },
     "execution_count": 858,
     "metadata": {},
     "output_type": "execute_result"
    }
   ],
   "source": [
    "x_train[col_to_clean]"
   ]
  },
  {
   "cell_type": "code",
   "execution_count": 859,
   "id": "c3aa91cf",
   "metadata": {},
   "outputs": [
    {
     "data": {
      "text/plain": [
       "term\n",
       "36 months    67256\n",
       "60 months    26001\n",
       "Name: count, dtype: int64"
      ]
     },
     "execution_count": 859,
     "metadata": {},
     "output_type": "execute_result"
    }
   ],
   "source": [
    "x_test[\"term\"].value_counts()"
   ]
  },
  {
   "cell_type": "code",
   "execution_count": 860,
   "id": "c75f64c6",
   "metadata": {},
   "outputs": [
    {
     "name": "stderr",
     "output_type": "stream",
     "text": [
      "C:\\Users\\micha\\AppData\\Local\\Temp\\ipykernel_3836\\802577773.py:9: FutureWarning: A value is trying to be set on a copy of a DataFrame or Series through chained assignment using an inplace method.\n",
      "The behavior will change in pandas 3.0. This inplace method will never work because the intermediate object on which we are setting values always behaves as a copy.\n",
      "\n",
      "For example, when doing 'df[col].method(value, inplace=True)', try using 'df.method({col: value}, inplace=True)' or df[col] = df[col].method(value) instead, to perform the operation inplace on the original object.\n",
      "\n",
      "\n",
      "  x_test[\"emp_length\"].fillna(0,inplace=True)\n"
     ]
    }
   ],
   "source": [
    "x_test[\"term\"]=x_test[\"term\"].str.replace(\" months\",\"\")\n",
    "x_test[\"term\"]=x_test[\"term\"].str.replace(\" \",\"\")\n",
    "x_test[\"term\"]=x_test[\"term\"].astype(int)\n",
    "\n",
    "x_test[\"emp_length\"]=x_test[\"emp_length\"].str.replace(\"+ years\",\"\")\n",
    "x_test[\"emp_length\"]=x_test[\"emp_length\"].str.replace(\" years\",\"\")\n",
    "x_test[\"emp_length\"]=x_test[\"emp_length\"].str.replace(\"< 1 year\",\"0\")\n",
    "x_test[\"emp_length\"]=x_test[\"emp_length\"].str.replace(\" year\",\"\")\n",
    "x_test[\"emp_length\"].fillna(0,inplace=True)\n",
    "x_test[\"emp_length\"]=x_test[\"emp_length\"].astype(int)\n",
    "\n",
    "for col in col_date:\n",
    "    x_test[col]=pd.to_datetime(x_test[col],format=\"%b-%y\")\n"
   ]
  },
  {
   "cell_type": "code",
   "execution_count": 861,
   "id": "67258976",
   "metadata": {},
   "outputs": [
    {
     "name": "stdout",
     "output_type": "stream",
     "text": [
      "<class 'pandas.core.frame.DataFrame'>\n",
      "Index: 93257 entries, 38664 to 89759\n",
      "Data columns (total 7 columns):\n",
      " #   Column              Non-Null Count  Dtype         \n",
      "---  ------              --------------  -----         \n",
      " 0   term                93257 non-null  int64         \n",
      " 1   emp_length          93257 non-null  int64         \n",
      " 2   issue_d             93257 non-null  datetime64[ns]\n",
      " 3   earliest_cr_line    93252 non-null  datetime64[ns]\n",
      " 4   last_pymnt_d        93187 non-null  datetime64[ns]\n",
      " 5   next_pymnt_d        47770 non-null  datetime64[ns]\n",
      " 6   last_credit_pull_d  93246 non-null  datetime64[ns]\n",
      "dtypes: datetime64[ns](5), int64(2)\n",
      "memory usage: 5.7 MB\n"
     ]
    }
   ],
   "source": [
    "x_test[col_to_clean].info()"
   ]
  },
  {
   "cell_type": "markdown",
   "id": "a944fce5",
   "metadata": {},
   "source": [
    "## Feature Engineering\n",
    "Generates a new column from existing columns."
   ]
  },
  {
   "cell_type": "code",
   "execution_count": 862,
   "id": "516b9137",
   "metadata": {},
   "outputs": [
    {
     "data": {
      "text/plain": [
       "((373028, 53), (373028,), (93257, 53), (93257,))"
      ]
     },
     "execution_count": 862,
     "metadata": {},
     "output_type": "execute_result"
    }
   ],
   "source": [
    "x_train.shape,y_train.shape,x_test.shape,y_test.shape"
   ]
  },
  {
   "cell_type": "code",
   "execution_count": 863,
   "id": "45247d1d",
   "metadata": {},
   "outputs": [
    {
     "data": {
      "text/plain": [
       "['term',\n",
       " 'emp_length',\n",
       " 'issue_d',\n",
       " 'earliest_cr_line',\n",
       " 'last_pymnt_d',\n",
       " 'next_pymnt_d',\n",
       " 'last_credit_pull_d']"
      ]
     },
     "execution_count": 863,
     "metadata": {},
     "output_type": "execute_result"
    }
   ],
   "source": [
    "col_to_clean"
   ]
  },
  {
   "cell_type": "code",
   "execution_count": 864,
   "id": "00acb9fb",
   "metadata": {},
   "outputs": [
    {
     "data": {
      "text/html": [
       "<div>\n",
       "<style scoped>\n",
       "    .dataframe tbody tr th:only-of-type {\n",
       "        vertical-align: middle;\n",
       "    }\n",
       "\n",
       "    .dataframe tbody tr th {\n",
       "        vertical-align: top;\n",
       "    }\n",
       "\n",
       "    .dataframe thead th {\n",
       "        text-align: right;\n",
       "    }\n",
       "</style>\n",
       "<table border=\"1\" class=\"dataframe\">\n",
       "  <thead>\n",
       "    <tr style=\"text-align: right;\">\n",
       "      <th></th>\n",
       "      <th>term</th>\n",
       "      <th>emp_length</th>\n",
       "      <th>issue_d</th>\n",
       "      <th>earliest_cr_line</th>\n",
       "      <th>last_pymnt_d</th>\n",
       "      <th>next_pymnt_d</th>\n",
       "      <th>last_credit_pull_d</th>\n",
       "    </tr>\n",
       "  </thead>\n",
       "  <tbody>\n",
       "    <tr>\n",
       "      <th>335623</th>\n",
       "      <td>60</td>\n",
       "      <td>9</td>\n",
       "      <td>2014-07-01</td>\n",
       "      <td>1992-04-01</td>\n",
       "      <td>2016-01-01</td>\n",
       "      <td>2016-01-01</td>\n",
       "      <td>2016-01-01</td>\n",
       "    </tr>\n",
       "    <tr>\n",
       "      <th>82177</th>\n",
       "      <td>36</td>\n",
       "      <td>2</td>\n",
       "      <td>2013-10-01</td>\n",
       "      <td>1994-10-01</td>\n",
       "      <td>2013-12-01</td>\n",
       "      <td>NaT</td>\n",
       "      <td>2014-05-01</td>\n",
       "    </tr>\n",
       "    <tr>\n",
       "      <th>339560</th>\n",
       "      <td>36</td>\n",
       "      <td>10</td>\n",
       "      <td>2014-07-01</td>\n",
       "      <td>1994-03-01</td>\n",
       "      <td>2015-03-01</td>\n",
       "      <td>NaT</td>\n",
       "      <td>2015-03-01</td>\n",
       "    </tr>\n",
       "    <tr>\n",
       "      <th>429575</th>\n",
       "      <td>36</td>\n",
       "      <td>10</td>\n",
       "      <td>2014-03-01</td>\n",
       "      <td>2000-02-01</td>\n",
       "      <td>2015-08-01</td>\n",
       "      <td>NaT</td>\n",
       "      <td>2016-01-01</td>\n",
       "    </tr>\n",
       "    <tr>\n",
       "      <th>264917</th>\n",
       "      <td>36</td>\n",
       "      <td>1</td>\n",
       "      <td>2014-10-01</td>\n",
       "      <td>2001-03-01</td>\n",
       "      <td>2015-10-01</td>\n",
       "      <td>2016-01-01</td>\n",
       "      <td>2016-01-01</td>\n",
       "    </tr>\n",
       "    <tr>\n",
       "      <th>...</th>\n",
       "      <td>...</td>\n",
       "      <td>...</td>\n",
       "      <td>...</td>\n",
       "      <td>...</td>\n",
       "      <td>...</td>\n",
       "      <td>...</td>\n",
       "      <td>...</td>\n",
       "    </tr>\n",
       "    <tr>\n",
       "      <th>85335</th>\n",
       "      <td>36</td>\n",
       "      <td>2</td>\n",
       "      <td>2013-09-01</td>\n",
       "      <td>1989-06-01</td>\n",
       "      <td>2016-01-01</td>\n",
       "      <td>2016-01-01</td>\n",
       "      <td>2016-01-01</td>\n",
       "    </tr>\n",
       "    <tr>\n",
       "      <th>400460</th>\n",
       "      <td>36</td>\n",
       "      <td>4</td>\n",
       "      <td>2014-04-01</td>\n",
       "      <td>1999-08-01</td>\n",
       "      <td>2016-01-01</td>\n",
       "      <td>2016-02-01</td>\n",
       "      <td>2016-01-01</td>\n",
       "    </tr>\n",
       "    <tr>\n",
       "      <th>3982</th>\n",
       "      <td>60</td>\n",
       "      <td>4</td>\n",
       "      <td>2011-11-01</td>\n",
       "      <td>2003-02-01</td>\n",
       "      <td>2012-06-01</td>\n",
       "      <td>NaT</td>\n",
       "      <td>2012-11-01</td>\n",
       "    </tr>\n",
       "    <tr>\n",
       "      <th>280424</th>\n",
       "      <td>36</td>\n",
       "      <td>1</td>\n",
       "      <td>2014-10-01</td>\n",
       "      <td>1992-07-01</td>\n",
       "      <td>2016-01-01</td>\n",
       "      <td>2016-01-01</td>\n",
       "      <td>2016-01-01</td>\n",
       "    </tr>\n",
       "    <tr>\n",
       "      <th>354718</th>\n",
       "      <td>36</td>\n",
       "      <td>0</td>\n",
       "      <td>2014-07-01</td>\n",
       "      <td>2004-08-01</td>\n",
       "      <td>2015-05-01</td>\n",
       "      <td>NaT</td>\n",
       "      <td>2015-10-01</td>\n",
       "    </tr>\n",
       "  </tbody>\n",
       "</table>\n",
       "<p>373028 rows × 7 columns</p>\n",
       "</div>"
      ],
      "text/plain": [
       "        term  emp_length    issue_d earliest_cr_line last_pymnt_d  \\\n",
       "335623    60           9 2014-07-01       1992-04-01   2016-01-01   \n",
       "82177     36           2 2013-10-01       1994-10-01   2013-12-01   \n",
       "339560    36          10 2014-07-01       1994-03-01   2015-03-01   \n",
       "429575    36          10 2014-03-01       2000-02-01   2015-08-01   \n",
       "264917    36           1 2014-10-01       2001-03-01   2015-10-01   \n",
       "...      ...         ...        ...              ...          ...   \n",
       "85335     36           2 2013-09-01       1989-06-01   2016-01-01   \n",
       "400460    36           4 2014-04-01       1999-08-01   2016-01-01   \n",
       "3982      60           4 2011-11-01       2003-02-01   2012-06-01   \n",
       "280424    36           1 2014-10-01       1992-07-01   2016-01-01   \n",
       "354718    36           0 2014-07-01       2004-08-01   2015-05-01   \n",
       "\n",
       "       next_pymnt_d last_credit_pull_d  \n",
       "335623   2016-01-01         2016-01-01  \n",
       "82177           NaT         2014-05-01  \n",
       "339560          NaT         2015-03-01  \n",
       "429575          NaT         2016-01-01  \n",
       "264917   2016-01-01         2016-01-01  \n",
       "...             ...                ...  \n",
       "85335    2016-01-01         2016-01-01  \n",
       "400460   2016-02-01         2016-01-01  \n",
       "3982            NaT         2012-11-01  \n",
       "280424   2016-01-01         2016-01-01  \n",
       "354718          NaT         2015-10-01  \n",
       "\n",
       "[373028 rows x 7 columns]"
      ]
     },
     "execution_count": 864,
     "metadata": {},
     "output_type": "execute_result"
    }
   ],
   "source": [
    "x_train[col_to_clean]"
   ]
  },
  {
   "cell_type": "code",
   "execution_count": 865,
   "id": "c8355e71",
   "metadata": {},
   "outputs": [],
   "source": [
    "x_train=x_train[col_to_clean]\n",
    "x_test=x_test[col_to_clean]"
   ]
  },
  {
   "cell_type": "code",
   "execution_count": 866,
   "id": "5b5b44e3",
   "metadata": {},
   "outputs": [],
   "source": [
    "del x_train[\"next_pymnt_d\"]\n",
    "del x_test[\"next_pymnt_d\"]\n",
    "# For the column next_pymnt_d, i.e. the next payment time doesn't really matter here\n",
    "# even when you pay.\n",
    "# So it can just be deleted, and the data used is a column other than the next_pymnt_d."
   ]
  },
  {
   "cell_type": "code",
   "execution_count": 867,
   "id": "52002da7",
   "metadata": {},
   "outputs": [
    {
     "data": {
      "text/plain": [
       "((373028, 6), (93257, 6))"
      ]
     },
     "execution_count": 867,
     "metadata": {},
     "output_type": "execute_result"
    }
   ],
   "source": [
    "x_train.shape,x_test.shape"
   ]
  },
  {
   "cell_type": "code",
   "execution_count": 868,
   "id": "37c7d77b",
   "metadata": {},
   "outputs": [
    {
     "data": {
      "text/html": [
       "<div>\n",
       "<style scoped>\n",
       "    .dataframe tbody tr th:only-of-type {\n",
       "        vertical-align: middle;\n",
       "    }\n",
       "\n",
       "    .dataframe tbody tr th {\n",
       "        vertical-align: top;\n",
       "    }\n",
       "\n",
       "    .dataframe thead th {\n",
       "        text-align: right;\n",
       "    }\n",
       "</style>\n",
       "<table border=\"1\" class=\"dataframe\">\n",
       "  <thead>\n",
       "    <tr style=\"text-align: right;\">\n",
       "      <th></th>\n",
       "      <th>term</th>\n",
       "      <th>emp_length</th>\n",
       "      <th>issue_d</th>\n",
       "      <th>earliest_cr_line</th>\n",
       "      <th>last_pymnt_d</th>\n",
       "      <th>last_credit_pull_d</th>\n",
       "    </tr>\n",
       "  </thead>\n",
       "  <tbody>\n",
       "    <tr>\n",
       "      <th>335623</th>\n",
       "      <td>60</td>\n",
       "      <td>9</td>\n",
       "      <td>2014-07-01</td>\n",
       "      <td>1992-04-01</td>\n",
       "      <td>2016-01-01</td>\n",
       "      <td>2016-01-01</td>\n",
       "    </tr>\n",
       "    <tr>\n",
       "      <th>82177</th>\n",
       "      <td>36</td>\n",
       "      <td>2</td>\n",
       "      <td>2013-10-01</td>\n",
       "      <td>1994-10-01</td>\n",
       "      <td>2013-12-01</td>\n",
       "      <td>2014-05-01</td>\n",
       "    </tr>\n",
       "    <tr>\n",
       "      <th>339560</th>\n",
       "      <td>36</td>\n",
       "      <td>10</td>\n",
       "      <td>2014-07-01</td>\n",
       "      <td>1994-03-01</td>\n",
       "      <td>2015-03-01</td>\n",
       "      <td>2015-03-01</td>\n",
       "    </tr>\n",
       "    <tr>\n",
       "      <th>429575</th>\n",
       "      <td>36</td>\n",
       "      <td>10</td>\n",
       "      <td>2014-03-01</td>\n",
       "      <td>2000-02-01</td>\n",
       "      <td>2015-08-01</td>\n",
       "      <td>2016-01-01</td>\n",
       "    </tr>\n",
       "    <tr>\n",
       "      <th>264917</th>\n",
       "      <td>36</td>\n",
       "      <td>1</td>\n",
       "      <td>2014-10-01</td>\n",
       "      <td>2001-03-01</td>\n",
       "      <td>2015-10-01</td>\n",
       "      <td>2016-01-01</td>\n",
       "    </tr>\n",
       "    <tr>\n",
       "      <th>...</th>\n",
       "      <td>...</td>\n",
       "      <td>...</td>\n",
       "      <td>...</td>\n",
       "      <td>...</td>\n",
       "      <td>...</td>\n",
       "      <td>...</td>\n",
       "    </tr>\n",
       "    <tr>\n",
       "      <th>85335</th>\n",
       "      <td>36</td>\n",
       "      <td>2</td>\n",
       "      <td>2013-09-01</td>\n",
       "      <td>1989-06-01</td>\n",
       "      <td>2016-01-01</td>\n",
       "      <td>2016-01-01</td>\n",
       "    </tr>\n",
       "    <tr>\n",
       "      <th>400460</th>\n",
       "      <td>36</td>\n",
       "      <td>4</td>\n",
       "      <td>2014-04-01</td>\n",
       "      <td>1999-08-01</td>\n",
       "      <td>2016-01-01</td>\n",
       "      <td>2016-01-01</td>\n",
       "    </tr>\n",
       "    <tr>\n",
       "      <th>3982</th>\n",
       "      <td>60</td>\n",
       "      <td>4</td>\n",
       "      <td>2011-11-01</td>\n",
       "      <td>2003-02-01</td>\n",
       "      <td>2012-06-01</td>\n",
       "      <td>2012-11-01</td>\n",
       "    </tr>\n",
       "    <tr>\n",
       "      <th>280424</th>\n",
       "      <td>36</td>\n",
       "      <td>1</td>\n",
       "      <td>2014-10-01</td>\n",
       "      <td>1992-07-01</td>\n",
       "      <td>2016-01-01</td>\n",
       "      <td>2016-01-01</td>\n",
       "    </tr>\n",
       "    <tr>\n",
       "      <th>354718</th>\n",
       "      <td>36</td>\n",
       "      <td>0</td>\n",
       "      <td>2014-07-01</td>\n",
       "      <td>2004-08-01</td>\n",
       "      <td>2015-05-01</td>\n",
       "      <td>2015-10-01</td>\n",
       "    </tr>\n",
       "  </tbody>\n",
       "</table>\n",
       "<p>373028 rows × 6 columns</p>\n",
       "</div>"
      ],
      "text/plain": [
       "        term  emp_length    issue_d earliest_cr_line last_pymnt_d  \\\n",
       "335623    60           9 2014-07-01       1992-04-01   2016-01-01   \n",
       "82177     36           2 2013-10-01       1994-10-01   2013-12-01   \n",
       "339560    36          10 2014-07-01       1994-03-01   2015-03-01   \n",
       "429575    36          10 2014-03-01       2000-02-01   2015-08-01   \n",
       "264917    36           1 2014-10-01       2001-03-01   2015-10-01   \n",
       "...      ...         ...        ...              ...          ...   \n",
       "85335     36           2 2013-09-01       1989-06-01   2016-01-01   \n",
       "400460    36           4 2014-04-01       1999-08-01   2016-01-01   \n",
       "3982      60           4 2011-11-01       2003-02-01   2012-06-01   \n",
       "280424    36           1 2014-10-01       1992-07-01   2016-01-01   \n",
       "354718    36           0 2014-07-01       2004-08-01   2015-05-01   \n",
       "\n",
       "       last_credit_pull_d  \n",
       "335623         2016-01-01  \n",
       "82177          2014-05-01  \n",
       "339560         2015-03-01  \n",
       "429575         2016-01-01  \n",
       "264917         2016-01-01  \n",
       "...                   ...  \n",
       "85335          2016-01-01  \n",
       "400460         2016-01-01  \n",
       "3982           2012-11-01  \n",
       "280424         2016-01-01  \n",
       "354718         2015-10-01  \n",
       "\n",
       "[373028 rows x 6 columns]"
      ]
     },
     "execution_count": 868,
     "metadata": {},
     "output_type": "execute_result"
    }
   ],
   "source": [
    "x_train"
   ]
  },
  {
   "cell_type": "markdown",
   "id": "cd8a1363",
   "metadata": {},
   "source": [
    "To input the data into the model, it is necessary to convert it into numbers for the columns.\n"
   ]
  },
  {
   "cell_type": "code",
   "execution_count": 869,
   "id": "16c09e6d",
   "metadata": {},
   "outputs": [],
   "source": [
    "from datetime import date\n",
    "\n",
    "def date_columns(df,column):\n",
    "    df[\"months_since_\"+column]=round((pd.to_datetime(\"2017-12-01\")-df[column])/np.timedelta64(1,\"m\"))\n",
    "    df.drop(columns=column,inplace=True)\n",
    "\n",
    " # Apply to x_train    \n",
    "date_columns(x_train,\"issue_d\")\n",
    "date_columns(x_train,\"earliest_cr_line\")\n",
    "date_columns(x_train,\"last_pymnt_d\")\n",
    "date_columns(x_train,\"last_credit_pull_d\")"
   ]
  },
  {
   "cell_type": "code",
   "execution_count": 870,
   "id": "1f9fec44",
   "metadata": {},
   "outputs": [
    {
     "data": {
      "text/html": [
       "<div>\n",
       "<style scoped>\n",
       "    .dataframe tbody tr th:only-of-type {\n",
       "        vertical-align: middle;\n",
       "    }\n",
       "\n",
       "    .dataframe tbody tr th {\n",
       "        vertical-align: top;\n",
       "    }\n",
       "\n",
       "    .dataframe thead th {\n",
       "        text-align: right;\n",
       "    }\n",
       "</style>\n",
       "<table border=\"1\" class=\"dataframe\">\n",
       "  <thead>\n",
       "    <tr style=\"text-align: right;\">\n",
       "      <th></th>\n",
       "      <th>term</th>\n",
       "      <th>emp_length</th>\n",
       "      <th>months_since_issue_d</th>\n",
       "      <th>months_since_earliest_cr_line</th>\n",
       "      <th>months_since_last_pymnt_d</th>\n",
       "      <th>months_since_last_credit_pull_d</th>\n",
       "    </tr>\n",
       "  </thead>\n",
       "  <tbody>\n",
       "    <tr>\n",
       "      <th>335623</th>\n",
       "      <td>60</td>\n",
       "      <td>9</td>\n",
       "      <td>1798560.0</td>\n",
       "      <td>13500000.0</td>\n",
       "      <td>1008000.0</td>\n",
       "      <td>1008000.0</td>\n",
       "    </tr>\n",
       "    <tr>\n",
       "      <th>82177</th>\n",
       "      <td>36</td>\n",
       "      <td>2</td>\n",
       "      <td>2191680.0</td>\n",
       "      <td>12185280.0</td>\n",
       "      <td>2103840.0</td>\n",
       "      <td>1886400.0</td>\n",
       "    </tr>\n",
       "    <tr>\n",
       "      <th>339560</th>\n",
       "      <td>36</td>\n",
       "      <td>10</td>\n",
       "      <td>1798560.0</td>\n",
       "      <td>12493440.0</td>\n",
       "      <td>1448640.0</td>\n",
       "      <td>1448640.0</td>\n",
       "    </tr>\n",
       "    <tr>\n",
       "      <th>429575</th>\n",
       "      <td>36</td>\n",
       "      <td>10</td>\n",
       "      <td>1974240.0</td>\n",
       "      <td>9378720.0</td>\n",
       "      <td>1228320.0</td>\n",
       "      <td>1008000.0</td>\n",
       "    </tr>\n",
       "    <tr>\n",
       "      <th>264917</th>\n",
       "      <td>36</td>\n",
       "      <td>1</td>\n",
       "      <td>1666080.0</td>\n",
       "      <td>8811360.0</td>\n",
       "      <td>1140480.0</td>\n",
       "      <td>1008000.0</td>\n",
       "    </tr>\n",
       "    <tr>\n",
       "      <th>...</th>\n",
       "      <td>...</td>\n",
       "      <td>...</td>\n",
       "      <td>...</td>\n",
       "      <td>...</td>\n",
       "      <td>...</td>\n",
       "      <td>...</td>\n",
       "    </tr>\n",
       "    <tr>\n",
       "      <th>85335</th>\n",
       "      <td>36</td>\n",
       "      <td>2</td>\n",
       "      <td>2234880.0</td>\n",
       "      <td>14990400.0</td>\n",
       "      <td>1008000.0</td>\n",
       "      <td>1008000.0</td>\n",
       "    </tr>\n",
       "    <tr>\n",
       "      <th>400460</th>\n",
       "      <td>36</td>\n",
       "      <td>4</td>\n",
       "      <td>1929600.0</td>\n",
       "      <td>9643680.0</td>\n",
       "      <td>1008000.0</td>\n",
       "      <td>1008000.0</td>\n",
       "    </tr>\n",
       "    <tr>\n",
       "      <th>3982</th>\n",
       "      <td>60</td>\n",
       "      <td>4</td>\n",
       "      <td>3199680.0</td>\n",
       "      <td>7800480.0</td>\n",
       "      <td>2892960.0</td>\n",
       "      <td>2672640.0</td>\n",
       "    </tr>\n",
       "    <tr>\n",
       "      <th>280424</th>\n",
       "      <td>36</td>\n",
       "      <td>1</td>\n",
       "      <td>1666080.0</td>\n",
       "      <td>13368960.0</td>\n",
       "      <td>1008000.0</td>\n",
       "      <td>1008000.0</td>\n",
       "    </tr>\n",
       "    <tr>\n",
       "      <th>354718</th>\n",
       "      <td>36</td>\n",
       "      <td>0</td>\n",
       "      <td>1798560.0</td>\n",
       "      <td>7012800.0</td>\n",
       "      <td>1360800.0</td>\n",
       "      <td>1140480.0</td>\n",
       "    </tr>\n",
       "  </tbody>\n",
       "</table>\n",
       "<p>373028 rows × 6 columns</p>\n",
       "</div>"
      ],
      "text/plain": [
       "        term  emp_length  months_since_issue_d  months_since_earliest_cr_line  \\\n",
       "335623    60           9             1798560.0                     13500000.0   \n",
       "82177     36           2             2191680.0                     12185280.0   \n",
       "339560    36          10             1798560.0                     12493440.0   \n",
       "429575    36          10             1974240.0                      9378720.0   \n",
       "264917    36           1             1666080.0                      8811360.0   \n",
       "...      ...         ...                   ...                            ...   \n",
       "85335     36           2             2234880.0                     14990400.0   \n",
       "400460    36           4             1929600.0                      9643680.0   \n",
       "3982      60           4             3199680.0                      7800480.0   \n",
       "280424    36           1             1666080.0                     13368960.0   \n",
       "354718    36           0             1798560.0                      7012800.0   \n",
       "\n",
       "        months_since_last_pymnt_d  months_since_last_credit_pull_d  \n",
       "335623                  1008000.0                        1008000.0  \n",
       "82177                   2103840.0                        1886400.0  \n",
       "339560                  1448640.0                        1448640.0  \n",
       "429575                  1228320.0                        1008000.0  \n",
       "264917                  1140480.0                        1008000.0  \n",
       "...                           ...                              ...  \n",
       "85335                   1008000.0                        1008000.0  \n",
       "400460                  1008000.0                        1008000.0  \n",
       "3982                    2892960.0                        2672640.0  \n",
       "280424                  1008000.0                        1008000.0  \n",
       "354718                  1360800.0                        1140480.0  \n",
       "\n",
       "[373028 rows x 6 columns]"
      ]
     },
     "execution_count": 870,
     "metadata": {},
     "output_type": "execute_result"
    }
   ],
   "source": [
    "x_train"
   ]
  },
  {
   "cell_type": "code",
   "execution_count": null,
   "id": "e5608b66",
   "metadata": {},
   "outputs": [],
   "source": []
  },
  {
   "cell_type": "code",
   "execution_count": 871,
   "id": "f7117911",
   "metadata": {},
   "outputs": [],
   "source": [
    "# Apply to x_test\n",
    "date_columns(x_test,\"issue_d\")\n",
    "date_columns(x_test,\"earliest_cr_line\")\n",
    "date_columns(x_test,\"last_pymnt_d\")\n",
    "date_columns(x_test,\"last_credit_pull_d\")"
   ]
  },
  {
   "cell_type": "code",
   "execution_count": 872,
   "id": "741ab56f",
   "metadata": {},
   "outputs": [
    {
     "data": {
      "text/plain": [
       "(term                                0\n",
       " emp_length                          0\n",
       " months_since_issue_d                0\n",
       " months_since_earliest_cr_line       5\n",
       " months_since_last_pymnt_d          70\n",
       " months_since_last_credit_pull_d    11\n",
       " dtype: int64,\n",
       " term                                 0\n",
       " emp_length                           0\n",
       " months_since_issue_d                 0\n",
       " months_since_earliest_cr_line       24\n",
       " months_since_last_pymnt_d          306\n",
       " months_since_last_credit_pull_d     31\n",
       " dtype: int64)"
      ]
     },
     "execution_count": 872,
     "metadata": {},
     "output_type": "execute_result"
    }
   ],
   "source": [
    "x_test.isnull().sum(),x_train.isnull().sum()\n",
    "# It turned out that there were still missing values, so the missing values were filled in."
   ]
  },
  {
   "cell_type": "code",
   "execution_count": 873,
   "id": "2f195996",
   "metadata": {},
   "outputs": [],
   "source": [
    "x_train.fillna(x_train.mean(),inplace=True)\n",
    "x_test.fillna(x_train.mean(),inplace=True)"
   ]
  },
  {
   "cell_type": "code",
   "execution_count": 874,
   "id": "666795ae",
   "metadata": {},
   "outputs": [
    {
     "data": {
      "text/plain": [
       "(term                               0\n",
       " emp_length                         0\n",
       " months_since_issue_d               0\n",
       " months_since_earliest_cr_line      0\n",
       " months_since_last_pymnt_d          0\n",
       " months_since_last_credit_pull_d    0\n",
       " dtype: int64,\n",
       " term                               0\n",
       " emp_length                         0\n",
       " months_since_issue_d               0\n",
       " months_since_earliest_cr_line      0\n",
       " months_since_last_pymnt_d          0\n",
       " months_since_last_credit_pull_d    0\n",
       " dtype: int64)"
      ]
     },
     "execution_count": 874,
     "metadata": {},
     "output_type": "execute_result"
    }
   ],
   "source": [
    "x_train.isnull().sum(),x_train.isnull().sum()"
   ]
  },
  {
   "cell_type": "markdown",
   "id": "91d485b5",
   "metadata": {},
   "source": [
    "## Modelling\n",
    "Target:  \n",
    "1 --> (Probability Approaching 1 ) Default (Bad Loan)  \n",
    "0 --> (Probability Close to 0 ) Successfully Pay (Good Loan)"
   ]
  },
  {
   "cell_type": "code",
   "execution_count": 875,
   "id": "7cb106ab",
   "metadata": {},
   "outputs": [],
   "source": [
    "# Starting from a simple model\n",
    "from sklearn.linear_model import LogisticRegression"
   ]
  },
  {
   "cell_type": "code",
   "execution_count": 876,
   "id": "1245d639",
   "metadata": {},
   "outputs": [],
   "source": [
    "params={\n",
    "    \"solver\":\"lbfgs\",\n",
    "    \"max_iter\":1000,\n",
    "    \"random_state\":42,\n",
    "    \"multi_class\":\"auto\",\n",
    "    \"C\":0.1,\n",
    "    \"penalty\":\"l2\"\n",
    "}"
   ]
  },
  {
   "cell_type": "code",
   "execution_count": 877,
   "id": "1b8ad5b8",
   "metadata": {},
   "outputs": [],
   "source": [
    "model=LogisticRegression(**params)"
   ]
  },
  {
   "cell_type": "code",
   "execution_count": 878,
   "id": "2fe7aeb4",
   "metadata": {},
   "outputs": [
    {
     "name": "stderr",
     "output_type": "stream",
     "text": [
      "d:\\Michh\\Python\\PythonTUT\\PythonTutEnv\\Lib\\site-packages\\sklearn\\linear_model\\_logistic.py:1247: FutureWarning: 'multi_class' was deprecated in version 1.5 and will be removed in 1.7. From then on, it will always use 'multinomial'. Leave it to its default value to avoid this warning.\n",
      "  warnings.warn(\n"
     ]
    }
   ],
   "source": [
    "model.fit(x_train,y_train)\n",
    "y_pred=model.predict(x_test)"
   ]
  },
  {
   "cell_type": "code",
   "execution_count": 879,
   "id": "18c11f2b",
   "metadata": {},
   "outputs": [
    {
     "data": {
      "text/plain": [
       "array([0, 0, 0, ..., 0, 0, 0])"
      ]
     },
     "execution_count": 879,
     "metadata": {},
     "output_type": "execute_result"
    }
   ],
   "source": [
    "y_pred"
   ]
  },
  {
   "cell_type": "code",
   "execution_count": 880,
   "id": "2c8696b2",
   "metadata": {},
   "outputs": [
    {
     "data": {
      "text/plain": [
       "0.8850166743515232"
      ]
     },
     "execution_count": 880,
     "metadata": {},
     "output_type": "execute_result"
    }
   ],
   "source": [
    "model.score(x_test,y_test)"
   ]
  },
  {
   "cell_type": "code",
   "execution_count": 881,
   "id": "0b571b35",
   "metadata": {},
   "outputs": [
    {
     "data": {
      "text/html": [
       "<div>\n",
       "<style scoped>\n",
       "    .dataframe tbody tr th:only-of-type {\n",
       "        vertical-align: middle;\n",
       "    }\n",
       "\n",
       "    .dataframe tbody tr th {\n",
       "        vertical-align: top;\n",
       "    }\n",
       "\n",
       "    .dataframe thead th {\n",
       "        text-align: right;\n",
       "    }\n",
       "</style>\n",
       "<table border=\"1\" class=\"dataframe\">\n",
       "  <thead>\n",
       "    <tr style=\"text-align: right;\">\n",
       "      <th></th>\n",
       "      <th>y_pred</th>\n",
       "      <th>y_test</th>\n",
       "    </tr>\n",
       "  </thead>\n",
       "  <tbody>\n",
       "    <tr>\n",
       "      <th>0</th>\n",
       "      <td>0</td>\n",
       "      <td>0</td>\n",
       "    </tr>\n",
       "    <tr>\n",
       "      <th>1</th>\n",
       "      <td>0</td>\n",
       "      <td>0</td>\n",
       "    </tr>\n",
       "    <tr>\n",
       "      <th>2</th>\n",
       "      <td>0</td>\n",
       "      <td>0</td>\n",
       "    </tr>\n",
       "    <tr>\n",
       "      <th>3</th>\n",
       "      <td>0</td>\n",
       "      <td>0</td>\n",
       "    </tr>\n",
       "    <tr>\n",
       "      <th>4</th>\n",
       "      <td>0</td>\n",
       "      <td>0</td>\n",
       "    </tr>\n",
       "  </tbody>\n",
       "</table>\n",
       "</div>"
      ],
      "text/plain": [
       "   y_pred  y_test\n",
       "0       0       0\n",
       "1       0       0\n",
       "2       0       0\n",
       "3       0       0\n",
       "4       0       0"
      ]
     },
     "execution_count": 881,
     "metadata": {},
     "output_type": "execute_result"
    }
   ],
   "source": [
    "result=pd.DataFrame(list(zip(y_pred,y_test)),columns=[\"y_pred\",\"y_test\"])\n",
    "result.head()"
   ]
  },
  {
   "cell_type": "code",
   "execution_count": 882,
   "id": "89690c8d",
   "metadata": {},
   "outputs": [
    {
     "data": {
      "text/plain": [
       "0.8850166743515232"
      ]
     },
     "execution_count": 882,
     "metadata": {},
     "output_type": "execute_result"
    }
   ],
   "source": [
    "from sklearn.metrics import accuracy_score\n",
    "accuracy_score(y_test,y_pred)"
   ]
  },
  {
   "cell_type": "code",
   "execution_count": 883,
   "id": "59887463",
   "metadata": {},
   "outputs": [],
   "source": [
    "from sklearn.metrics import confusion_matrix,classification_report\n",
    "\n",
    "import matplotlib.pyplot as plt\n",
    "import seaborn as sns"
   ]
  },
  {
   "cell_type": "code",
   "execution_count": 884,
   "id": "125a535a",
   "metadata": {},
   "outputs": [
    {
     "name": "stdout",
     "output_type": "stream",
     "text": [
      "              precision    recall  f1-score   support\n",
      "\n",
      "           0       0.89      0.99      0.94     82820\n",
      "           1       0.32      0.02      0.05     10437\n",
      "\n",
      "    accuracy                           0.89     93257\n",
      "   macro avg       0.60      0.51      0.49     93257\n",
      "weighted avg       0.83      0.89      0.84     93257\n",
      "\n"
     ]
    }
   ],
   "source": [
    "cls_report=classification_report(y_test,y_pred)\n",
    "print(cls_report)"
   ]
  },
  {
   "cell_type": "code",
   "execution_count": 885,
   "id": "5fdeb8fe",
   "metadata": {},
   "outputs": [
    {
     "data": {
      "text/plain": [
       "{'0': {'precision': 0.8898610284972692,\n",
       "  'recall': 0.9934919101666264,\n",
       "  'f1-score': 0.9388253415865591,\n",
       "  'support': 82820.0},\n",
       " '1': {'precision': 0.3194444444444444,\n",
       "  'recall': 0.024240682188368307,\n",
       "  'f1-score': 0.0450618933119601,\n",
       "  'support': 10437.0},\n",
       " 'accuracy': 0.8850166743515232,\n",
       " 'macro avg': {'precision': 0.6046527364708568,\n",
       "  'recall': 0.5088662961774973,\n",
       "  'f1-score': 0.4919436174492596,\n",
       "  'support': 93257.0},\n",
       " 'weighted avg': {'precision': 0.8260219827660177,\n",
       "  'recall': 0.8850166743515232,\n",
       "  'f1-score': 0.8387984362642563,\n",
       "  'support': 93257.0}}"
      ]
     },
     "execution_count": 885,
     "metadata": {},
     "output_type": "execute_result"
    }
   ],
   "source": [
    "report_dict = classification_report(y_test, y_pred, output_dict=True)\n",
    "report_dict"
   ]
  },
  {
   "cell_type": "code",
   "execution_count": 886,
   "id": "369e2a8a",
   "metadata": {},
   "outputs": [],
   "source": [
    "cm=confusion_matrix(y_test,y_pred)"
   ]
  },
  {
   "cell_type": "code",
   "execution_count": 887,
   "id": "d291aa35",
   "metadata": {},
   "outputs": [
    {
     "data": {
      "text/plain": [
       "array([[82281,   539],\n",
       "       [10184,   253]])"
      ]
     },
     "execution_count": 887,
     "metadata": {},
     "output_type": "execute_result"
    }
   ],
   "source": [
    "cm"
   ]
  },
  {
   "cell_type": "code",
   "execution_count": 888,
   "id": "afbcfd17",
   "metadata": {},
   "outputs": [
    {
     "data": {
      "image/png": "[encoded data removed]",
      "text/plain": [
       "<Figure size 640x480 with 2 Axes>"
      ]
     },
     "metadata": {},
     "output_type": "display_data"
    }
   ],
   "source": [
    "sns.heatmap(cm,annot=True,fmt=\".0f\",cmap=plt.cm.YlGnBu)\n",
    "plt.xlabel(\"y_pred\")\n",
    "plt.ylabel(\"y_test/y_true\")\n",
    "plt.show()"
   ]
  },
  {
   "cell_type": "code",
   "execution_count": null,
   "id": "b5d35e03",
   "metadata": {},
   "outputs": [],
   "source": []
  },
  {
   "cell_type": "code",
   "execution_count": 889,
   "id": "6510d8e5",
   "metadata": {},
   "outputs": [
    {
     "data": {
      "text/plain": [
       "good_bad\n",
       "0    0.888081\n",
       "1    0.111919\n",
       "Name: proportion, dtype: float64"
      ]
     },
     "execution_count": 889,
     "metadata": {},
     "output_type": "execute_result"
    }
   ],
   "source": [
    "y_train.value_counts(normalize=True)"
   ]
  },
  {
   "cell_type": "markdown",
   "id": "8dbb1d21",
   "metadata": {},
   "source": [
    "Because, in this case there is an imbalanced class distribution, because there are very many 0 values and few 1 values. Therefore, we cannot use accuracy_score to measure the performance of our model in this case, because it might be misleading."
   ]
  },
  {
   "cell_type": "code",
   "execution_count": 890,
   "id": "e97cc2d4",
   "metadata": {},
   "outputs": [
    {
     "data": {
      "text/plain": [
       "array([0.02897902, 0.15436007, 0.00532596, ..., 0.25955494, 0.01968416,\n",
       "       0.21056449])"
      ]
     },
     "execution_count": 890,
     "metadata": {},
     "output_type": "execute_result"
    }
   ],
   "source": [
    "y_pred=model.predict_proba(x_test)[:,1]\n",
    "y_pred"
   ]
  },
  {
   "cell_type": "code",
   "execution_count": 891,
   "id": "45a0e760",
   "metadata": {},
   "outputs": [
    {
     "data": {
      "text/plain": [
       "array([0, 0, 0, ..., 0, 0, 0])"
      ]
     },
     "execution_count": 891,
     "metadata": {},
     "output_type": "execute_result"
    }
   ],
   "source": [
    "(y_pred>0.5).astype(int)"
   ]
  },
  {
   "cell_type": "code",
   "execution_count": 892,
   "id": "bb33f04a",
   "metadata": {},
   "outputs": [
    {
     "data": {
      "image/png": "[encoded data removed]",
      "text/plain": [
       "<Figure size 640x480 with 1 Axes>"
      ]
     },
     "metadata": {},
     "output_type": "display_data"
    }
   ],
   "source": [
    "plt.hist(y_pred);"
   ]
  },
  {
   "cell_type": "markdown",
   "id": "05f194d8",
   "metadata": {},
   "source": [
    "Calculating the best threshold"
   ]
  },
  {
   "cell_type": "code",
   "execution_count": 893,
   "id": "d2b1fa3b",
   "metadata": {},
   "outputs": [],
   "source": [
    "from sklearn.metrics import roc_curve"
   ]
  },
  {
   "cell_type": "code",
   "execution_count": 894,
   "id": "65d3e981",
   "metadata": {},
   "outputs": [],
   "source": [
    "fpr,tpr,thresholds=roc_curve(y_test,y_pred)"
   ]
  },
  {
   "cell_type": "code",
   "execution_count": 895,
   "id": "2ffb4764",
   "metadata": {},
   "outputs": [
    {
     "data": {
      "text/plain": [
       "array([           inf, 9.05266534e-01, 8.75718014e-01, ...,\n",
       "       1.15206614e-03, 1.12693851e-03, 4.60765752e-04])"
      ]
     },
     "execution_count": 895,
     "metadata": {},
     "output_type": "execute_result"
    }
   ],
   "source": [
    "thresholds"
   ]
  },
  {
   "cell_type": "code",
   "execution_count": 896,
   "id": "fcc1c7c4",
   "metadata": {},
   "outputs": [],
   "source": [
    "# Youden j-statistic\n",
    "j=tpr-fpr\n",
    "ix=np.argmax(j)\n",
    "best_thresh=thresholds[ix]"
   ]
  },
  {
   "cell_type": "code",
   "execution_count": 897,
   "id": "e09321ab",
   "metadata": {},
   "outputs": [
    {
     "data": {
      "text/plain": [
       "np.float64(0.130076751165001)"
      ]
     },
     "execution_count": 897,
     "metadata": {},
     "output_type": "execute_result"
    }
   ],
   "source": [
    "best_thresh"
   ]
  },
  {
   "cell_type": "code",
   "execution_count": 898,
   "id": "781e5bda",
   "metadata": {},
   "outputs": [
    {
     "data": {
      "text/plain": [
       "array([[0.97102098, 0.02897902],\n",
       "       [0.84563993, 0.15436007],\n",
       "       [0.99467404, 0.00532596],\n",
       "       ...,\n",
       "       [0.74044506, 0.25955494],\n",
       "       [0.98031584, 0.01968416],\n",
       "       [0.78943551, 0.21056449]])"
      ]
     },
     "execution_count": 898,
     "metadata": {},
     "output_type": "execute_result"
    }
   ],
   "source": [
    "model.predict_proba(x_test) # Class 0, class 1"
   ]
  },
  {
   "cell_type": "code",
   "execution_count": 899,
   "id": "e26a7f03",
   "metadata": {},
   "outputs": [],
   "source": [
    "y_pred=model.predict_proba(x_test)[:,1]"
   ]
  },
  {
   "cell_type": "code",
   "execution_count": 900,
   "id": "792e456b",
   "metadata": {},
   "outputs": [
    {
     "data": {
      "text/plain": [
       "array([0.02897902, 0.15436007, 0.00532596, ..., 0.25955494, 0.01968416,\n",
       "       0.21056449])"
      ]
     },
     "execution_count": 900,
     "metadata": {},
     "output_type": "execute_result"
    }
   ],
   "source": [
    "y_pred"
   ]
  },
  {
   "cell_type": "code",
   "execution_count": 901,
   "id": "30587099",
   "metadata": {},
   "outputs": [],
   "source": [
    "y_pred=(y_pred>best_thresh).astype(int)"
   ]
  },
  {
   "cell_type": "markdown",
   "id": "427c97d2",
   "metadata": {},
   "source": [
    "If we predict a loan above 0.09 (9%) it is very likely that the loan will default.  \n",
    "However, if it is below 0.09 (9%), it is likely that the loan will be successfully paid."
   ]
  },
  {
   "cell_type": "code",
   "execution_count": 902,
   "id": "ac78da18",
   "metadata": {},
   "outputs": [
    {
     "data": {
      "image/png": "[encoded data removed]",
      "text/plain": [
       "<Figure size 640x480 with 1 Axes>"
      ]
     },
     "metadata": {},
     "output_type": "display_data"
    }
   ],
   "source": [
    "plt.hist(y_pred);"
   ]
  },
  {
   "cell_type": "code",
   "execution_count": 903,
   "id": "1088acaf",
   "metadata": {},
   "outputs": [
    {
     "name": "stdout",
     "output_type": "stream",
     "text": [
      "              precision    recall  f1-score   support\n",
      "\n",
      "           0       0.94      0.73      0.82     82820\n",
      "           1       0.23      0.62      0.33     10437\n",
      "\n",
      "    accuracy                           0.72     93257\n",
      "   macro avg       0.58      0.68      0.58     93257\n",
      "weighted avg       0.86      0.72      0.77     93257\n",
      "\n"
     ]
    }
   ],
   "source": [
    "cls_report=classification_report(y_test,y_pred)\n",
    "print(cls_report)"
   ]
  },
  {
   "cell_type": "code",
   "execution_count": 904,
   "id": "052aa97f",
   "metadata": {},
   "outputs": [
    {
     "data": {
      "text/plain": [
       "{'0': {'precision': 0.938343653250774,\n",
       "  'recall': 0.7319125815020526,\n",
       "  'f1-score': 0.8223714557047891,\n",
       "  'support': 82820.0},\n",
       " '1': {'precision': 0.22521547963848274,\n",
       "  'recall': 0.6183769282360831,\n",
       "  'f1-score': 0.33017854402210056,\n",
       "  'support': 10437.0},\n",
       " 'accuracy': 0.7192060649602711,\n",
       " 'macro avg': {'precision': 0.5817795664446284,\n",
       "  'recall': 0.6751447548690679,\n",
       "  'f1-score': 0.5762749998634449,\n",
       "  'support': 93257.0},\n",
       " 'weighted avg': {'precision': 0.8585328213776546,\n",
       "  'recall': 0.7192060649602711,\n",
       "  'f1-score': 0.767286932084769,\n",
       "  'support': 93257.0}}"
      ]
     },
     "execution_count": 904,
     "metadata": {},
     "output_type": "execute_result"
    }
   ],
   "source": [
    "report_dict = classification_report(y_test, y_pred, output_dict=True)\n",
    "report_dict"
   ]
  },
  {
   "cell_type": "code",
   "execution_count": 905,
   "id": "b4ed2b8d",
   "metadata": {},
   "outputs": [],
   "source": [
    "cm=confusion_matrix(y_test,y_pred)"
   ]
  },
  {
   "cell_type": "code",
   "execution_count": 906,
   "id": "7ea54e79",
   "metadata": {
    "scrolled": true
   },
   "outputs": [
    {
     "data": {
      "text/plain": [
       "array([[60617, 22203],\n",
       "       [ 3983,  6454]])"
      ]
     },
     "execution_count": 906,
     "metadata": {},
     "output_type": "execute_result"
    }
   ],
   "source": [
    "cm=confusion_matrix(y_test,y_pred)\n",
    "cm"
   ]
  },
  {
   "cell_type": "code",
   "execution_count": 907,
   "id": "b3d40d7e",
   "metadata": {},
   "outputs": [
    {
     "data": {
      "image/png": "[encoded data removed]",
      "text/plain": [
       "<Figure size 640x480 with 2 Axes>"
      ]
     },
     "metadata": {},
     "output_type": "display_data"
    }
   ],
   "source": [
    "sns.heatmap(cm,annot=True,fmt=\".0f\",cmap=plt.cm.YlGnBu)\n",
    "plt.xlabel(\"y_pred\")\n",
    "plt.ylabel(\"y_test/y_true\")\n",
    "plt.show()"
   ]
  },
  {
   "cell_type": "code",
   "execution_count": 908,
   "id": "522c6fd4",
   "metadata": {},
   "outputs": [
    {
     "data": {
      "text/plain": [
       "array([-0.00052901])"
      ]
     },
     "execution_count": 908,
     "metadata": {},
     "output_type": "execute_result"
    }
   ],
   "source": [
    "model.intercept_"
   ]
  },
  {
   "cell_type": "code",
   "execution_count": 909,
   "id": "82e669f3",
   "metadata": {},
   "outputs": [
    {
     "data": {
      "text/plain": [
       "array([[-8.00057692e-03, -3.24565754e-03, -1.90030266e-06,\n",
       "        -6.18485440e-08,  2.60153519e-06, -5.07085386e-07]])"
      ]
     },
     "execution_count": 909,
     "metadata": {},
     "output_type": "execute_result"
    }
   ],
   "source": [
    "model.coef_"
   ]
  },
  {
   "cell_type": "code",
   "execution_count": 910,
   "id": "f63890f5",
   "metadata": {},
   "outputs": [
    {
     "data": {
      "text/html": [
       "<div>\n",
       "<style scoped>\n",
       "    .dataframe tbody tr th:only-of-type {\n",
       "        vertical-align: middle;\n",
       "    }\n",
       "\n",
       "    .dataframe tbody tr th {\n",
       "        vertical-align: top;\n",
       "    }\n",
       "\n",
       "    .dataframe thead th {\n",
       "        text-align: right;\n",
       "    }\n",
       "</style>\n",
       "<table border=\"1\" class=\"dataframe\">\n",
       "  <thead>\n",
       "    <tr style=\"text-align: right;\">\n",
       "      <th></th>\n",
       "      <th>term</th>\n",
       "      <th>emp_length</th>\n",
       "      <th>months_since_issue_d</th>\n",
       "      <th>months_since_earliest_cr_line</th>\n",
       "      <th>months_since_last_pymnt_d</th>\n",
       "      <th>months_since_last_credit_pull_d</th>\n",
       "    </tr>\n",
       "  </thead>\n",
       "  <tbody>\n",
       "    <tr>\n",
       "      <th>0</th>\n",
       "      <td>-0.008001</td>\n",
       "      <td>-0.003246</td>\n",
       "      <td>-0.000002</td>\n",
       "      <td>-6.184854e-08</td>\n",
       "      <td>0.000003</td>\n",
       "      <td>-5.070854e-07</td>\n",
       "    </tr>\n",
       "  </tbody>\n",
       "</table>\n",
       "</div>"
      ],
      "text/plain": [
       "       term  emp_length  months_since_issue_d  months_since_earliest_cr_line  \\\n",
       "0 -0.008001   -0.003246             -0.000002                  -6.184854e-08   \n",
       "\n",
       "   months_since_last_pymnt_d  months_since_last_credit_pull_d  \n",
       "0                   0.000003                    -5.070854e-07  "
      ]
     },
     "execution_count": 910,
     "metadata": {},
     "output_type": "execute_result"
    }
   ],
   "source": [
    "df_coeff=pd.DataFrame(model.coef_,columns=x_train.columns)\n",
    "df_coeff"
   ]
  },
  {
   "cell_type": "code",
   "execution_count": 911,
   "id": "67f4ecf8",
   "metadata": {},
   "outputs": [
    {
     "data": {
      "text/html": [
       "<div>\n",
       "<style scoped>\n",
       "    .dataframe tbody tr th:only-of-type {\n",
       "        vertical-align: middle;\n",
       "    }\n",
       "\n",
       "    .dataframe tbody tr th {\n",
       "        vertical-align: top;\n",
       "    }\n",
       "\n",
       "    .dataframe thead th {\n",
       "        text-align: right;\n",
       "    }\n",
       "</style>\n",
       "<table border=\"1\" class=\"dataframe\">\n",
       "  <thead>\n",
       "    <tr style=\"text-align: right;\">\n",
       "      <th></th>\n",
       "      <th>term</th>\n",
       "      <th>emp_length</th>\n",
       "      <th>months_since_issue_d</th>\n",
       "      <th>months_since_earliest_cr_line</th>\n",
       "      <th>months_since_last_pymnt_d</th>\n",
       "      <th>months_since_last_credit_pull_d</th>\n",
       "    </tr>\n",
       "  </thead>\n",
       "  <tbody>\n",
       "    <tr>\n",
       "      <th>335623</th>\n",
       "      <td>60</td>\n",
       "      <td>9</td>\n",
       "      <td>1798560.0</td>\n",
       "      <td>13500000.0</td>\n",
       "      <td>1008000.0</td>\n",
       "      <td>1008000.0</td>\n",
       "    </tr>\n",
       "    <tr>\n",
       "      <th>82177</th>\n",
       "      <td>36</td>\n",
       "      <td>2</td>\n",
       "      <td>2191680.0</td>\n",
       "      <td>12185280.0</td>\n",
       "      <td>2103840.0</td>\n",
       "      <td>1886400.0</td>\n",
       "    </tr>\n",
       "    <tr>\n",
       "      <th>339560</th>\n",
       "      <td>36</td>\n",
       "      <td>10</td>\n",
       "      <td>1798560.0</td>\n",
       "      <td>12493440.0</td>\n",
       "      <td>1448640.0</td>\n",
       "      <td>1448640.0</td>\n",
       "    </tr>\n",
       "    <tr>\n",
       "      <th>429575</th>\n",
       "      <td>36</td>\n",
       "      <td>10</td>\n",
       "      <td>1974240.0</td>\n",
       "      <td>9378720.0</td>\n",
       "      <td>1228320.0</td>\n",
       "      <td>1008000.0</td>\n",
       "    </tr>\n",
       "    <tr>\n",
       "      <th>264917</th>\n",
       "      <td>36</td>\n",
       "      <td>1</td>\n",
       "      <td>1666080.0</td>\n",
       "      <td>8811360.0</td>\n",
       "      <td>1140480.0</td>\n",
       "      <td>1008000.0</td>\n",
       "    </tr>\n",
       "  </tbody>\n",
       "</table>\n",
       "</div>"
      ],
      "text/plain": [
       "        term  emp_length  months_since_issue_d  months_since_earliest_cr_line  \\\n",
       "335623    60           9             1798560.0                     13500000.0   \n",
       "82177     36           2             2191680.0                     12185280.0   \n",
       "339560    36          10             1798560.0                     12493440.0   \n",
       "429575    36          10             1974240.0                      9378720.0   \n",
       "264917    36           1             1666080.0                      8811360.0   \n",
       "\n",
       "        months_since_last_pymnt_d  months_since_last_credit_pull_d  \n",
       "335623                  1008000.0                        1008000.0  \n",
       "82177                   2103840.0                        1886400.0  \n",
       "339560                  1448640.0                        1448640.0  \n",
       "429575                  1228320.0                        1008000.0  \n",
       "264917                  1140480.0                        1008000.0  "
      ]
     },
     "execution_count": 911,
     "metadata": {},
     "output_type": "execute_result"
    }
   ],
   "source": [
    "x_train.head()"
   ]
  },
  {
   "cell_type": "markdown",
   "id": "86a13bcb",
   "metadata": {},
   "source": [
    "- term: the longer the timeframe for repaying the loan, the higher the probability that he will default.  \n",
    "- emp_length: the higher, the lower the probability of default.  \n",
    "- months_since_issue_d: the longer the disbursed money, the lower the probability of default.  \n",
    "- months_since_earlist_cr_line: the longer it is an hour since the credit creation date, the lower the probability of default. (If the age of the credit line is old, it means that the probability of default is lower).  \n",
    "- months_since_last_pymnt_d: the longer the last payment, the higher the probability that he will default.\n",
    "- months_since_last_credit_pull_d: the longer the last credit evaluation, the higher the probability that he will default. (So we have to evaluate it routinely, because if we routinely carry out evaluations, it means that the difference between the last evaluation date and the current date is getting smaller, therefore, the probability that he will fail to pay will be smaller)."
   ]
  },
  {
   "cell_type": "code",
   "execution_count": 915,
   "id": "7280d38e",
   "metadata": {},
   "outputs": [
    {
     "data": {
      "text/plain": [
       "{'0': {'precision': 0.938343653250774,\n",
       "  'recall': 0.7319125815020526,\n",
       "  'f1-score': 0.8223714557047891,\n",
       "  'support': 82820.0},\n",
       " '1': {'precision': 0.22521547963848274,\n",
       "  'recall': 0.6183769282360831,\n",
       "  'f1-score': 0.33017854402210056,\n",
       "  'support': 10437.0},\n",
       " 'accuracy': 0.7192060649602711,\n",
       " 'macro avg': {'precision': 0.5817795664446284,\n",
       "  'recall': 0.6751447548690679,\n",
       "  'f1-score': 0.5762749998634449,\n",
       "  'support': 93257.0},\n",
       " 'weighted avg': {'precision': 0.8585328213776546,\n",
       "  'recall': 0.7192060649602711,\n",
       "  'f1-score': 0.767286932084769,\n",
       "  'support': 93257.0}}"
      ]
     },
     "execution_count": 915,
     "metadata": {},
     "output_type": "execute_result"
    }
   ],
   "source": [
    "report_dict"
   ]
  },
  {
   "cell_type": "code",
   "execution_count": null,
   "id": "ac293640",
   "metadata": {},
   "outputs": [],
   "source": []
  },
  {
   "cell_type": "code",
   "execution_count": 913,
   "id": "99ec71d5",
   "metadata": {},
   "outputs": [],
   "source": [
    "import mlflow"
   ]
  },
  {
   "cell_type": "code",
   "execution_count": 916,
   "id": "68b647b2",
   "metadata": {},
   "outputs": [
    {
     "name": "stderr",
     "output_type": "stream",
     "text": [
      "2024/10/01 15:35:28 INFO mlflow.tracking.fluent: Experiment with name 'Credit Risk Model' does not exist. Creating a new experiment.\n",
      "2024/10/01 15:35:31 WARNING mlflow.models.model: Model logged without a signature and input example. Please set `input_example` parameter when logging the model to auto infer the model signature.\n",
      "2024/10/01 15:35:31 INFO mlflow.tracking._tracking_service.client: 🏃 View run melodic-bird-413 at: http://127.0.0.1:5000/#/experiments/319229922571050914/runs/8b82d0aec15948d8948a38c69708bade.\n",
      "2024/10/01 15:35:31 INFO mlflow.tracking._tracking_service.client: 🧪 View experiment at: http://127.0.0.1:5000/#/experiments/319229922571050914.\n"
     ]
    }
   ],
   "source": [
    "mlflow.set_experiment(\"Credit Risk Model\")\n",
    "mlflow.set_tracking_uri(\"http://127.0.0.1:5000\")\n",
    "\n",
    "with mlflow.start_run(): # Run name is automatically generated, or you can specify it.\n",
    "    mlflow.log_params(params)\n",
    "    mlflow.log_metrics({\n",
    "        \"accuracy\":report_dict[\"accuracy\"],\n",
    "        \"recall_class_0\":report_dict[\"0\"][\"recall\"],\n",
    "        \"recall_class_1\":report_dict[\"1\"][\"recall\"],\n",
    "        \"f1_score_macro\":report_dict[\"macro avg\"][\"f1-score\"]\n",
    "    })\n",
    "    mlflow.sklearn.log_model(model, \"Logistic Regression\")"
   ]
  },
  {
   "cell_type": "code",
   "execution_count": null,
   "id": "d49bcbad",
   "metadata": {},
   "outputs": [],
   "source": []
  }
 ],
 "metadata": {
  "kernelspec": {
   "display_name": "PythonTutEnv",
   "language": "python",
   "name": "python3"
  },
  "language_info": {
   "codemirror_mode": {
    "name": "ipython",
    "version": 3
   },
   "file_extension": ".py",
   "mimetype": "text/x-python",
   "name": "python",
   "nbconvert_exporter": "python",
   "pygments_lexer": "ipython3",
   "version": "3.12.0"
  }
 },
 "nbformat": 4,
 "nbformat_minor": 5
}
